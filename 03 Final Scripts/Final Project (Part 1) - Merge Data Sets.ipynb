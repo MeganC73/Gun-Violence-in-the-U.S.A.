{
 "cells": [
  {
   "cell_type": "code",
   "execution_count": 1,
   "id": "ca428bc7",
   "metadata": {},
   "outputs": [],
   "source": [
    "# Import libraries\n",
    "\n",
    "import pandas as pd \n",
    "import numpy as np \n",
    "import os \n",
    "import matplotlib.pyplot as plt \n",
    "import matplotlib \n",
    "import seaborn as sns \n",
    "import pylab as pl "
   ]
  },
  {
   "cell_type": "code",
   "execution_count": 2,
   "id": "4a3879d4",
   "metadata": {},
   "outputs": [],
   "source": [
    "# Create path \n",
    "\n",
    "path = r\"C:\\Users\\Megan\\Documents\\Analytics\\Gun Violence Achievement 6\""
   ]
  },
  {
   "cell_type": "code",
   "execution_count": 3,
   "id": "7deba6ce",
   "metadata": {},
   "outputs": [],
   "source": [
    "pop_data = pd.read_csv(os.path.join(path, '02 Data','Raw Data','New Census Data.csv'), index_col=False)"
   ]
  },
  {
   "cell_type": "code",
   "execution_count": 4,
   "id": "5f7a68d7",
   "metadata": {},
   "outputs": [
    {
     "data": {
      "text/plain": [
       "Index(['State', 'Year', ' Total Population '], dtype='object')"
      ]
     },
     "execution_count": 4,
     "metadata": {},
     "output_type": "execute_result"
    }
   ],
   "source": [
    "pop_data.columns"
   ]
  },
  {
   "cell_type": "code",
   "execution_count": 5,
   "id": "d6a585f7",
   "metadata": {},
   "outputs": [
    {
     "data": {
      "text/plain": [
       "2009    51\n",
       "2010    51\n",
       "2011    51\n",
       "2012    51\n",
       "2013    51\n",
       "2014    51\n",
       "2015    51\n",
       "2016    51\n",
       "2017    51\n",
       "Name: Year, dtype: int64"
      ]
     },
     "execution_count": 5,
     "metadata": {},
     "output_type": "execute_result"
    }
   ],
   "source": [
    "# Check years to match with other dataset\n",
    "\n",
    "pop_data['Year'].value_counts()"
   ]
  },
  {
   "cell_type": "code",
   "execution_count": 6,
   "id": "9b0c7fd9",
   "metadata": {},
   "outputs": [],
   "source": [
    "# Create subset for only the years 2013 to 2017\n",
    "\n",
    "Census = pop_data.loc[(pop_data['Year'] >= 2013) & (pop_data['Year'] <=2017)]"
   ]
  },
  {
   "cell_type": "code",
   "execution_count": 7,
   "id": "9add892a",
   "metadata": {},
   "outputs": [
    {
     "data": {
      "text/plain": [
       "State                 object\n",
       "Year                   int64\n",
       " Total Population      int64\n",
       "dtype: object"
      ]
     },
     "execution_count": 7,
     "metadata": {},
     "output_type": "execute_result"
    }
   ],
   "source": [
    "Census.dtypes"
   ]
  },
  {
   "cell_type": "code",
   "execution_count": 8,
   "id": "e43dcfac",
   "metadata": {},
   "outputs": [
    {
     "name": "stderr",
     "output_type": "stream",
     "text": [
      "C:\\Users\\Megan\\AppData\\Local\\Temp\\ipykernel_3040\\2484194287.py:3: SettingWithCopyWarning: \n",
      "A value is trying to be set on a copy of a slice from a DataFrame.\n",
      "Try using .loc[row_indexer,col_indexer] = value instead\n",
      "\n",
      "See the caveats in the documentation: https://pandas.pydata.org/pandas-docs/stable/user_guide/indexing.html#returning-a-view-versus-a-copy\n",
      "  Census['Year'] = Census['Year'].astype('str')\n"
     ]
    }
   ],
   "source": [
    "# Change Year data type to object \n",
    "\n",
    "Census['Year'] = Census['Year'].astype('str')"
   ]
  },
  {
   "cell_type": "code",
   "execution_count": 9,
   "id": "b2d1710e",
   "metadata": {},
   "outputs": [
    {
     "data": {
      "text/plain": [
       "State                 object\n",
       "Year                  object\n",
       " Total Population      int64\n",
       "dtype: object"
      ]
     },
     "execution_count": 9,
     "metadata": {},
     "output_type": "execute_result"
    }
   ],
   "source": [
    "Census.dtypes"
   ]
  },
  {
   "cell_type": "code",
   "execution_count": 10,
   "id": "3ceea2db",
   "metadata": {},
   "outputs": [
    {
     "name": "stderr",
     "output_type": "stream",
     "text": [
      "C:\\Users\\Megan\\AppData\\Local\\Temp\\ipykernel_3040\\3752198862.py:1: SettingWithCopyWarning: \n",
      "A value is trying to be set on a copy of a slice from a DataFrame.\n",
      "Try using .loc[row_indexer,col_indexer] = value instead\n",
      "\n",
      "See the caveats in the documentation: https://pandas.pydata.org/pandas-docs/stable/user_guide/indexing.html#returning-a-view-versus-a-copy\n",
      "  Census['State_Year'] = Census[['State', 'Year']].agg(', '.join, axis=1)\n"
     ]
    }
   ],
   "source": [
    "Census['State_Year'] = Census[['State', 'Year']].agg(', '.join, axis=1)"
   ]
  },
  {
   "cell_type": "code",
   "execution_count": 11,
   "id": "4792aa5e",
   "metadata": {},
   "outputs": [
    {
     "data": {
      "text/html": [
       "<div>\n",
       "<style scoped>\n",
       "    .dataframe tbody tr th:only-of-type {\n",
       "        vertical-align: middle;\n",
       "    }\n",
       "\n",
       "    .dataframe tbody tr th {\n",
       "        vertical-align: top;\n",
       "    }\n",
       "\n",
       "    .dataframe thead th {\n",
       "        text-align: right;\n",
       "    }\n",
       "</style>\n",
       "<table border=\"1\" class=\"dataframe\">\n",
       "  <thead>\n",
       "    <tr style=\"text-align: right;\">\n",
       "      <th></th>\n",
       "      <th>State</th>\n",
       "      <th>Year</th>\n",
       "      <th>Total Population</th>\n",
       "      <th>State_Year</th>\n",
       "    </tr>\n",
       "  </thead>\n",
       "  <tbody>\n",
       "    <tr>\n",
       "      <th>4</th>\n",
       "      <td>Alabama</td>\n",
       "      <td>2013</td>\n",
       "      <td>4645681</td>\n",
       "      <td>Alabama, 2013</td>\n",
       "    </tr>\n",
       "    <tr>\n",
       "      <th>5</th>\n",
       "      <td>Alabama</td>\n",
       "      <td>2014</td>\n",
       "      <td>4504373</td>\n",
       "      <td>Alabama, 2014</td>\n",
       "    </tr>\n",
       "    <tr>\n",
       "      <th>6</th>\n",
       "      <td>Alabama</td>\n",
       "      <td>2015</td>\n",
       "      <td>4394389</td>\n",
       "      <td>Alabama, 2015</td>\n",
       "    </tr>\n",
       "    <tr>\n",
       "      <th>7</th>\n",
       "      <td>Alabama</td>\n",
       "      <td>2016</td>\n",
       "      <td>4542822</td>\n",
       "      <td>Alabama, 2016</td>\n",
       "    </tr>\n",
       "    <tr>\n",
       "      <th>8</th>\n",
       "      <td>Alabama</td>\n",
       "      <td>2017</td>\n",
       "      <td>4593132</td>\n",
       "      <td>Alabama, 2017</td>\n",
       "    </tr>\n",
       "  </tbody>\n",
       "</table>\n",
       "</div>"
      ],
      "text/plain": [
       "     State  Year   Total Population      State_Year\n",
       "4  Alabama  2013             4645681  Alabama, 2013\n",
       "5  Alabama  2014             4504373  Alabama, 2014\n",
       "6  Alabama  2015             4394389  Alabama, 2015\n",
       "7  Alabama  2016             4542822  Alabama, 2016\n",
       "8  Alabama  2017             4593132  Alabama, 2017"
      ]
     },
     "execution_count": 11,
     "metadata": {},
     "output_type": "execute_result"
    }
   ],
   "source": [
    "Census.head()"
   ]
  },
  {
   "cell_type": "code",
   "execution_count": 12,
   "id": "4d63fdb3",
   "metadata": {},
   "outputs": [],
   "source": [
    "# Drop state and year column \n",
    "\n",
    "Census = Census.drop(columns = {'State','Year'})"
   ]
  },
  {
   "cell_type": "code",
   "execution_count": 13,
   "id": "60917bab",
   "metadata": {},
   "outputs": [
    {
     "data": {
      "text/html": [
       "<div>\n",
       "<style scoped>\n",
       "    .dataframe tbody tr th:only-of-type {\n",
       "        vertical-align: middle;\n",
       "    }\n",
       "\n",
       "    .dataframe tbody tr th {\n",
       "        vertical-align: top;\n",
       "    }\n",
       "\n",
       "    .dataframe thead th {\n",
       "        text-align: right;\n",
       "    }\n",
       "</style>\n",
       "<table border=\"1\" class=\"dataframe\">\n",
       "  <thead>\n",
       "    <tr style=\"text-align: right;\">\n",
       "      <th></th>\n",
       "      <th>Total Population</th>\n",
       "      <th>State_Year</th>\n",
       "    </tr>\n",
       "  </thead>\n",
       "  <tbody>\n",
       "    <tr>\n",
       "      <th>4</th>\n",
       "      <td>4645681</td>\n",
       "      <td>Alabama, 2013</td>\n",
       "    </tr>\n",
       "    <tr>\n",
       "      <th>5</th>\n",
       "      <td>4504373</td>\n",
       "      <td>Alabama, 2014</td>\n",
       "    </tr>\n",
       "    <tr>\n",
       "      <th>6</th>\n",
       "      <td>4394389</td>\n",
       "      <td>Alabama, 2015</td>\n",
       "    </tr>\n",
       "    <tr>\n",
       "      <th>7</th>\n",
       "      <td>4542822</td>\n",
       "      <td>Alabama, 2016</td>\n",
       "    </tr>\n",
       "    <tr>\n",
       "      <th>8</th>\n",
       "      <td>4593132</td>\n",
       "      <td>Alabama, 2017</td>\n",
       "    </tr>\n",
       "  </tbody>\n",
       "</table>\n",
       "</div>"
      ],
      "text/plain": [
       "    Total Population      State_Year\n",
       "4             4645681  Alabama, 2013\n",
       "5             4504373  Alabama, 2014\n",
       "6             4394389  Alabama, 2015\n",
       "7             4542822  Alabama, 2016\n",
       "8             4593132  Alabama, 2017"
      ]
     },
     "execution_count": 13,
     "metadata": {},
     "output_type": "execute_result"
    }
   ],
   "source": [
    "Census.head()"
   ]
  },
  {
   "cell_type": "code",
   "execution_count": 14,
   "id": "5f9d25e1",
   "metadata": {},
   "outputs": [],
   "source": [
    "# Import Gun Violence data \n",
    "\n",
    "guns = pd.read_csv(os.path.join(path, '02 Data','Raw Data','regression_data.csv'), index_col=False)"
   ]
  },
  {
   "cell_type": "code",
   "execution_count": 15,
   "id": "ca1742c6",
   "metadata": {},
   "outputs": [
    {
     "data": {
      "text/html": [
       "<div>\n",
       "<style scoped>\n",
       "    .dataframe tbody tr th:only-of-type {\n",
       "        vertical-align: middle;\n",
       "    }\n",
       "\n",
       "    .dataframe tbody tr th {\n",
       "        vertical-align: top;\n",
       "    }\n",
       "\n",
       "    .dataframe thead th {\n",
       "        text-align: right;\n",
       "    }\n",
       "</style>\n",
       "<table border=\"1\" class=\"dataframe\">\n",
       "  <thead>\n",
       "    <tr style=\"text-align: right;\">\n",
       "      <th></th>\n",
       "      <th>Unnamed: 0</th>\n",
       "      <th>Incident_id</th>\n",
       "      <th>Date</th>\n",
       "      <th>State</th>\n",
       "      <th>City_or_County</th>\n",
       "      <th>#_killed</th>\n",
       "      <th>#_injured</th>\n",
       "      <th>latitude</th>\n",
       "      <th>longitude</th>\n",
       "      <th>n_guns_involved</th>\n",
       "      <th>participant_age_group</th>\n",
       "      <th>participant_gender</th>\n",
       "      <th>Geographic_Region</th>\n",
       "    </tr>\n",
       "  </thead>\n",
       "  <tbody>\n",
       "    <tr>\n",
       "      <th>0</th>\n",
       "      <td>0</td>\n",
       "      <td>461105</td>\n",
       "      <td>1/1/2013</td>\n",
       "      <td>Pennsylvania</td>\n",
       "      <td>Mckeesport</td>\n",
       "      <td>0</td>\n",
       "      <td>4</td>\n",
       "      <td>40.3467</td>\n",
       "      <td>-79.8559</td>\n",
       "      <td>1.0</td>\n",
       "      <td>0::Adult 18+||1::Adult 18+||2::Adult 18+||3::A...</td>\n",
       "      <td>0::Male||1::Male||3::Male||4::Female</td>\n",
       "      <td>East</td>\n",
       "    </tr>\n",
       "    <tr>\n",
       "      <th>1</th>\n",
       "      <td>1</td>\n",
       "      <td>460726</td>\n",
       "      <td>1/1/2013</td>\n",
       "      <td>California</td>\n",
       "      <td>Hawthorne</td>\n",
       "      <td>1</td>\n",
       "      <td>3</td>\n",
       "      <td>33.9090</td>\n",
       "      <td>-118.3330</td>\n",
       "      <td>1.0</td>\n",
       "      <td>0::Adult 18+||1::Adult 18+||2::Adult 18+||3::A...</td>\n",
       "      <td>0::Male</td>\n",
       "      <td>West</td>\n",
       "    </tr>\n",
       "    <tr>\n",
       "      <th>2</th>\n",
       "      <td>2</td>\n",
       "      <td>478855</td>\n",
       "      <td>1/1/2013</td>\n",
       "      <td>Ohio</td>\n",
       "      <td>Lorain</td>\n",
       "      <td>1</td>\n",
       "      <td>3</td>\n",
       "      <td>41.4455</td>\n",
       "      <td>-82.1377</td>\n",
       "      <td>2.0</td>\n",
       "      <td>0::Adult 18+||1::Adult 18+||2::Adult 18+||3::A...</td>\n",
       "      <td>0::Male||1::Male||2::Male||3::Male||4::Male</td>\n",
       "      <td>East</td>\n",
       "    </tr>\n",
       "    <tr>\n",
       "      <th>3</th>\n",
       "      <td>3</td>\n",
       "      <td>478925</td>\n",
       "      <td>1/5/2013</td>\n",
       "      <td>Colorado</td>\n",
       "      <td>Aurora</td>\n",
       "      <td>4</td>\n",
       "      <td>0</td>\n",
       "      <td>39.6518</td>\n",
       "      <td>-104.8020</td>\n",
       "      <td>1.0</td>\n",
       "      <td>0::Adult 18+||1::Adult 18+||2::Adult 18+||3::A...</td>\n",
       "      <td>0::Female||1::Male||2::Male||3::Male</td>\n",
       "      <td>Middle</td>\n",
       "    </tr>\n",
       "    <tr>\n",
       "      <th>4</th>\n",
       "      <td>4</td>\n",
       "      <td>478959</td>\n",
       "      <td>1/7/2013</td>\n",
       "      <td>North Carolina</td>\n",
       "      <td>Greensboro</td>\n",
       "      <td>2</td>\n",
       "      <td>2</td>\n",
       "      <td>36.1140</td>\n",
       "      <td>-79.9569</td>\n",
       "      <td>2.0</td>\n",
       "      <td>0::Adult 18+||1::Adult 18+||2::Teen 12-17||3::...</td>\n",
       "      <td>0::Female||1::Male||2::Male||3::Female</td>\n",
       "      <td>East</td>\n",
       "    </tr>\n",
       "  </tbody>\n",
       "</table>\n",
       "</div>"
      ],
      "text/plain": [
       "   Unnamed: 0  Incident_id      Date           State City_or_County  #_killed  \\\n",
       "0           0       461105  1/1/2013    Pennsylvania     Mckeesport         0   \n",
       "1           1       460726  1/1/2013      California      Hawthorne         1   \n",
       "2           2       478855  1/1/2013            Ohio         Lorain         1   \n",
       "3           3       478925  1/5/2013        Colorado         Aurora         4   \n",
       "4           4       478959  1/7/2013  North Carolina     Greensboro         2   \n",
       "\n",
       "   #_injured  latitude  longitude  n_guns_involved  \\\n",
       "0          4   40.3467   -79.8559              1.0   \n",
       "1          3   33.9090  -118.3330              1.0   \n",
       "2          3   41.4455   -82.1377              2.0   \n",
       "3          0   39.6518  -104.8020              1.0   \n",
       "4          2   36.1140   -79.9569              2.0   \n",
       "\n",
       "                               participant_age_group  \\\n",
       "0  0::Adult 18+||1::Adult 18+||2::Adult 18+||3::A...   \n",
       "1  0::Adult 18+||1::Adult 18+||2::Adult 18+||3::A...   \n",
       "2  0::Adult 18+||1::Adult 18+||2::Adult 18+||3::A...   \n",
       "3  0::Adult 18+||1::Adult 18+||2::Adult 18+||3::A...   \n",
       "4  0::Adult 18+||1::Adult 18+||2::Teen 12-17||3::...   \n",
       "\n",
       "                            participant_gender Geographic_Region  \n",
       "0         0::Male||1::Male||3::Male||4::Female              East  \n",
       "1                                      0::Male              West  \n",
       "2  0::Male||1::Male||2::Male||3::Male||4::Male              East  \n",
       "3         0::Female||1::Male||2::Male||3::Male            Middle  \n",
       "4       0::Female||1::Male||2::Male||3::Female              East  "
      ]
     },
     "execution_count": 15,
     "metadata": {},
     "output_type": "execute_result"
    }
   ],
   "source": [
    "guns.head()"
   ]
  },
  {
   "cell_type": "code",
   "execution_count": 16,
   "id": "5b54b375",
   "metadata": {},
   "outputs": [],
   "source": [
    "# Create subset to eliminate unstructured columns\n",
    "\n",
    "guns_1 = guns[['Date','State','#_killed','#_injured','latitude','longitude','n_guns_involved','Geographic_Region']]"
   ]
  },
  {
   "cell_type": "code",
   "execution_count": 17,
   "id": "cf158814",
   "metadata": {},
   "outputs": [
    {
     "data": {
      "text/html": [
       "<div>\n",
       "<style scoped>\n",
       "    .dataframe tbody tr th:only-of-type {\n",
       "        vertical-align: middle;\n",
       "    }\n",
       "\n",
       "    .dataframe tbody tr th {\n",
       "        vertical-align: top;\n",
       "    }\n",
       "\n",
       "    .dataframe thead th {\n",
       "        text-align: right;\n",
       "    }\n",
       "</style>\n",
       "<table border=\"1\" class=\"dataframe\">\n",
       "  <thead>\n",
       "    <tr style=\"text-align: right;\">\n",
       "      <th></th>\n",
       "      <th>Date</th>\n",
       "      <th>State</th>\n",
       "      <th>#_killed</th>\n",
       "      <th>#_injured</th>\n",
       "      <th>latitude</th>\n",
       "      <th>longitude</th>\n",
       "      <th>n_guns_involved</th>\n",
       "      <th>Geographic_Region</th>\n",
       "    </tr>\n",
       "  </thead>\n",
       "  <tbody>\n",
       "    <tr>\n",
       "      <th>0</th>\n",
       "      <td>1/1/2013</td>\n",
       "      <td>Pennsylvania</td>\n",
       "      <td>0</td>\n",
       "      <td>4</td>\n",
       "      <td>40.3467</td>\n",
       "      <td>-79.8559</td>\n",
       "      <td>1.0</td>\n",
       "      <td>East</td>\n",
       "    </tr>\n",
       "    <tr>\n",
       "      <th>1</th>\n",
       "      <td>1/1/2013</td>\n",
       "      <td>California</td>\n",
       "      <td>1</td>\n",
       "      <td>3</td>\n",
       "      <td>33.9090</td>\n",
       "      <td>-118.3330</td>\n",
       "      <td>1.0</td>\n",
       "      <td>West</td>\n",
       "    </tr>\n",
       "    <tr>\n",
       "      <th>2</th>\n",
       "      <td>1/1/2013</td>\n",
       "      <td>Ohio</td>\n",
       "      <td>1</td>\n",
       "      <td>3</td>\n",
       "      <td>41.4455</td>\n",
       "      <td>-82.1377</td>\n",
       "      <td>2.0</td>\n",
       "      <td>East</td>\n",
       "    </tr>\n",
       "    <tr>\n",
       "      <th>3</th>\n",
       "      <td>1/5/2013</td>\n",
       "      <td>Colorado</td>\n",
       "      <td>4</td>\n",
       "      <td>0</td>\n",
       "      <td>39.6518</td>\n",
       "      <td>-104.8020</td>\n",
       "      <td>1.0</td>\n",
       "      <td>Middle</td>\n",
       "    </tr>\n",
       "    <tr>\n",
       "      <th>4</th>\n",
       "      <td>1/7/2013</td>\n",
       "      <td>North Carolina</td>\n",
       "      <td>2</td>\n",
       "      <td>2</td>\n",
       "      <td>36.1140</td>\n",
       "      <td>-79.9569</td>\n",
       "      <td>2.0</td>\n",
       "      <td>East</td>\n",
       "    </tr>\n",
       "  </tbody>\n",
       "</table>\n",
       "</div>"
      ],
      "text/plain": [
       "       Date           State  #_killed  #_injured  latitude  longitude  \\\n",
       "0  1/1/2013    Pennsylvania         0          4   40.3467   -79.8559   \n",
       "1  1/1/2013      California         1          3   33.9090  -118.3330   \n",
       "2  1/1/2013            Ohio         1          3   41.4455   -82.1377   \n",
       "3  1/5/2013        Colorado         4          0   39.6518  -104.8020   \n",
       "4  1/7/2013  North Carolina         2          2   36.1140   -79.9569   \n",
       "\n",
       "   n_guns_involved Geographic_Region  \n",
       "0              1.0              East  \n",
       "1              1.0              West  \n",
       "2              2.0              East  \n",
       "3              1.0            Middle  \n",
       "4              2.0              East  "
      ]
     },
     "execution_count": 17,
     "metadata": {},
     "output_type": "execute_result"
    }
   ],
   "source": [
    "guns_1.head()"
   ]
  },
  {
   "cell_type": "code",
   "execution_count": 18,
   "id": "6d6280ea",
   "metadata": {},
   "outputs": [
    {
     "name": "stderr",
     "output_type": "stream",
     "text": [
      "C:\\Users\\Megan\\AppData\\Local\\Temp\\ipykernel_3040\\2512569383.py:3: SettingWithCopyWarning: \n",
      "A value is trying to be set on a copy of a slice from a DataFrame.\n",
      "Try using .loc[row_indexer,col_indexer] = value instead\n",
      "\n",
      "See the caveats in the documentation: https://pandas.pydata.org/pandas-docs/stable/user_guide/indexing.html#returning-a-view-versus-a-copy\n",
      "  guns_1['Date'] = pd.to_datetime(guns_1['Date'])\n",
      "C:\\Users\\Megan\\AppData\\Local\\Temp\\ipykernel_3040\\2512569383.py:4: SettingWithCopyWarning: \n",
      "A value is trying to be set on a copy of a slice from a DataFrame.\n",
      "Try using .loc[row_indexer,col_indexer] = value instead\n",
      "\n",
      "See the caveats in the documentation: https://pandas.pydata.org/pandas-docs/stable/user_guide/indexing.html#returning-a-view-versus-a-copy\n",
      "  guns_1['Year'] = guns_1['Date'].dt.year\n",
      "C:\\Users\\Megan\\AppData\\Local\\Temp\\ipykernel_3040\\2512569383.py:5: SettingWithCopyWarning: \n",
      "A value is trying to be set on a copy of a slice from a DataFrame.\n",
      "Try using .loc[row_indexer,col_indexer] = value instead\n",
      "\n",
      "See the caveats in the documentation: https://pandas.pydata.org/pandas-docs/stable/user_guide/indexing.html#returning-a-view-versus-a-copy\n",
      "  guns_1['Month'] = guns_1['Date'].dt.month\n",
      "C:\\Users\\Megan\\AppData\\Local\\Temp\\ipykernel_3040\\2512569383.py:6: SettingWithCopyWarning: \n",
      "A value is trying to be set on a copy of a slice from a DataFrame.\n",
      "Try using .loc[row_indexer,col_indexer] = value instead\n",
      "\n",
      "See the caveats in the documentation: https://pandas.pydata.org/pandas-docs/stable/user_guide/indexing.html#returning-a-view-versus-a-copy\n",
      "  guns_1['Day'] = guns_1['Date'].dt.day\n"
     ]
    }
   ],
   "source": [
    "# Create separate columns for Year, Month and Day\n",
    "\n",
    "guns_1['Date'] = pd.to_datetime(guns_1['Date'])\n",
    "guns_1['Year'] = guns_1['Date'].dt.year\n",
    "guns_1['Month'] = guns_1['Date'].dt.month\n",
    "guns_1['Day'] = guns_1['Date'].dt.day"
   ]
  },
  {
   "cell_type": "code",
   "execution_count": 19,
   "id": "111276d6",
   "metadata": {},
   "outputs": [
    {
     "data": {
      "text/html": [
       "<div>\n",
       "<style scoped>\n",
       "    .dataframe tbody tr th:only-of-type {\n",
       "        vertical-align: middle;\n",
       "    }\n",
       "\n",
       "    .dataframe tbody tr th {\n",
       "        vertical-align: top;\n",
       "    }\n",
       "\n",
       "    .dataframe thead th {\n",
       "        text-align: right;\n",
       "    }\n",
       "</style>\n",
       "<table border=\"1\" class=\"dataframe\">\n",
       "  <thead>\n",
       "    <tr style=\"text-align: right;\">\n",
       "      <th></th>\n",
       "      <th>Date</th>\n",
       "      <th>State</th>\n",
       "      <th>#_killed</th>\n",
       "      <th>#_injured</th>\n",
       "      <th>latitude</th>\n",
       "      <th>longitude</th>\n",
       "      <th>n_guns_involved</th>\n",
       "      <th>Geographic_Region</th>\n",
       "      <th>Year</th>\n",
       "      <th>Month</th>\n",
       "      <th>Day</th>\n",
       "    </tr>\n",
       "  </thead>\n",
       "  <tbody>\n",
       "    <tr>\n",
       "      <th>0</th>\n",
       "      <td>2013-01-01</td>\n",
       "      <td>Pennsylvania</td>\n",
       "      <td>0</td>\n",
       "      <td>4</td>\n",
       "      <td>40.3467</td>\n",
       "      <td>-79.8559</td>\n",
       "      <td>1.0</td>\n",
       "      <td>East</td>\n",
       "      <td>2013</td>\n",
       "      <td>1</td>\n",
       "      <td>1</td>\n",
       "    </tr>\n",
       "    <tr>\n",
       "      <th>1</th>\n",
       "      <td>2013-01-01</td>\n",
       "      <td>California</td>\n",
       "      <td>1</td>\n",
       "      <td>3</td>\n",
       "      <td>33.9090</td>\n",
       "      <td>-118.3330</td>\n",
       "      <td>1.0</td>\n",
       "      <td>West</td>\n",
       "      <td>2013</td>\n",
       "      <td>1</td>\n",
       "      <td>1</td>\n",
       "    </tr>\n",
       "    <tr>\n",
       "      <th>2</th>\n",
       "      <td>2013-01-01</td>\n",
       "      <td>Ohio</td>\n",
       "      <td>1</td>\n",
       "      <td>3</td>\n",
       "      <td>41.4455</td>\n",
       "      <td>-82.1377</td>\n",
       "      <td>2.0</td>\n",
       "      <td>East</td>\n",
       "      <td>2013</td>\n",
       "      <td>1</td>\n",
       "      <td>1</td>\n",
       "    </tr>\n",
       "    <tr>\n",
       "      <th>3</th>\n",
       "      <td>2013-01-05</td>\n",
       "      <td>Colorado</td>\n",
       "      <td>4</td>\n",
       "      <td>0</td>\n",
       "      <td>39.6518</td>\n",
       "      <td>-104.8020</td>\n",
       "      <td>1.0</td>\n",
       "      <td>Middle</td>\n",
       "      <td>2013</td>\n",
       "      <td>1</td>\n",
       "      <td>5</td>\n",
       "    </tr>\n",
       "    <tr>\n",
       "      <th>4</th>\n",
       "      <td>2013-01-07</td>\n",
       "      <td>North Carolina</td>\n",
       "      <td>2</td>\n",
       "      <td>2</td>\n",
       "      <td>36.1140</td>\n",
       "      <td>-79.9569</td>\n",
       "      <td>2.0</td>\n",
       "      <td>East</td>\n",
       "      <td>2013</td>\n",
       "      <td>1</td>\n",
       "      <td>7</td>\n",
       "    </tr>\n",
       "  </tbody>\n",
       "</table>\n",
       "</div>"
      ],
      "text/plain": [
       "        Date           State  #_killed  #_injured  latitude  longitude  \\\n",
       "0 2013-01-01    Pennsylvania         0          4   40.3467   -79.8559   \n",
       "1 2013-01-01      California         1          3   33.9090  -118.3330   \n",
       "2 2013-01-01            Ohio         1          3   41.4455   -82.1377   \n",
       "3 2013-01-05        Colorado         4          0   39.6518  -104.8020   \n",
       "4 2013-01-07  North Carolina         2          2   36.1140   -79.9569   \n",
       "\n",
       "   n_guns_involved Geographic_Region  Year  Month  Day  \n",
       "0              1.0              East  2013      1    1  \n",
       "1              1.0              West  2013      1    1  \n",
       "2              2.0              East  2013      1    1  \n",
       "3              1.0            Middle  2013      1    5  \n",
       "4              2.0              East  2013      1    7  "
      ]
     },
     "execution_count": 19,
     "metadata": {},
     "output_type": "execute_result"
    }
   ],
   "source": [
    "# Check output\n",
    "\n",
    "guns_1.head()"
   ]
  },
  {
   "cell_type": "code",
   "execution_count": 20,
   "id": "7cb83297",
   "metadata": {},
   "outputs": [],
   "source": [
    "# Drop Date column \n",
    "\n",
    "guns_1 = guns_1.drop(columns = {'Date'})"
   ]
  },
  {
   "cell_type": "code",
   "execution_count": 21,
   "id": "30ff4ce1",
   "metadata": {},
   "outputs": [
    {
     "data": {
      "text/html": [
       "<div>\n",
       "<style scoped>\n",
       "    .dataframe tbody tr th:only-of-type {\n",
       "        vertical-align: middle;\n",
       "    }\n",
       "\n",
       "    .dataframe tbody tr th {\n",
       "        vertical-align: top;\n",
       "    }\n",
       "\n",
       "    .dataframe thead th {\n",
       "        text-align: right;\n",
       "    }\n",
       "</style>\n",
       "<table border=\"1\" class=\"dataframe\">\n",
       "  <thead>\n",
       "    <tr style=\"text-align: right;\">\n",
       "      <th></th>\n",
       "      <th>State</th>\n",
       "      <th>#_killed</th>\n",
       "      <th>#_injured</th>\n",
       "      <th>latitude</th>\n",
       "      <th>longitude</th>\n",
       "      <th>n_guns_involved</th>\n",
       "      <th>Geographic_Region</th>\n",
       "      <th>Year</th>\n",
       "      <th>Month</th>\n",
       "      <th>Day</th>\n",
       "    </tr>\n",
       "  </thead>\n",
       "  <tbody>\n",
       "    <tr>\n",
       "      <th>0</th>\n",
       "      <td>Pennsylvania</td>\n",
       "      <td>0</td>\n",
       "      <td>4</td>\n",
       "      <td>40.3467</td>\n",
       "      <td>-79.8559</td>\n",
       "      <td>1.0</td>\n",
       "      <td>East</td>\n",
       "      <td>2013</td>\n",
       "      <td>1</td>\n",
       "      <td>1</td>\n",
       "    </tr>\n",
       "    <tr>\n",
       "      <th>1</th>\n",
       "      <td>California</td>\n",
       "      <td>1</td>\n",
       "      <td>3</td>\n",
       "      <td>33.9090</td>\n",
       "      <td>-118.3330</td>\n",
       "      <td>1.0</td>\n",
       "      <td>West</td>\n",
       "      <td>2013</td>\n",
       "      <td>1</td>\n",
       "      <td>1</td>\n",
       "    </tr>\n",
       "    <tr>\n",
       "      <th>2</th>\n",
       "      <td>Ohio</td>\n",
       "      <td>1</td>\n",
       "      <td>3</td>\n",
       "      <td>41.4455</td>\n",
       "      <td>-82.1377</td>\n",
       "      <td>2.0</td>\n",
       "      <td>East</td>\n",
       "      <td>2013</td>\n",
       "      <td>1</td>\n",
       "      <td>1</td>\n",
       "    </tr>\n",
       "    <tr>\n",
       "      <th>3</th>\n",
       "      <td>Colorado</td>\n",
       "      <td>4</td>\n",
       "      <td>0</td>\n",
       "      <td>39.6518</td>\n",
       "      <td>-104.8020</td>\n",
       "      <td>1.0</td>\n",
       "      <td>Middle</td>\n",
       "      <td>2013</td>\n",
       "      <td>1</td>\n",
       "      <td>5</td>\n",
       "    </tr>\n",
       "    <tr>\n",
       "      <th>4</th>\n",
       "      <td>North Carolina</td>\n",
       "      <td>2</td>\n",
       "      <td>2</td>\n",
       "      <td>36.1140</td>\n",
       "      <td>-79.9569</td>\n",
       "      <td>2.0</td>\n",
       "      <td>East</td>\n",
       "      <td>2013</td>\n",
       "      <td>1</td>\n",
       "      <td>7</td>\n",
       "    </tr>\n",
       "    <tr>\n",
       "      <th>...</th>\n",
       "      <td>...</td>\n",
       "      <td>...</td>\n",
       "      <td>...</td>\n",
       "      <td>...</td>\n",
       "      <td>...</td>\n",
       "      <td>...</td>\n",
       "      <td>...</td>\n",
       "      <td>...</td>\n",
       "      <td>...</td>\n",
       "      <td>...</td>\n",
       "    </tr>\n",
       "    <tr>\n",
       "      <th>230784</th>\n",
       "      <td>Washington</td>\n",
       "      <td>0</td>\n",
       "      <td>0</td>\n",
       "      <td>47.6638</td>\n",
       "      <td>-117.2350</td>\n",
       "      <td>1.0</td>\n",
       "      <td>West</td>\n",
       "      <td>2018</td>\n",
       "      <td>3</td>\n",
       "      <td>31</td>\n",
       "    </tr>\n",
       "    <tr>\n",
       "      <th>230785</th>\n",
       "      <td>Louisiana</td>\n",
       "      <td>1</td>\n",
       "      <td>0</td>\n",
       "      <td>31.7537</td>\n",
       "      <td>-93.0836</td>\n",
       "      <td>1.0</td>\n",
       "      <td>Middle</td>\n",
       "      <td>2018</td>\n",
       "      <td>3</td>\n",
       "      <td>31</td>\n",
       "    </tr>\n",
       "    <tr>\n",
       "      <th>230786</th>\n",
       "      <td>Louisiana</td>\n",
       "      <td>0</td>\n",
       "      <td>1</td>\n",
       "      <td>29.9239</td>\n",
       "      <td>-90.0442</td>\n",
       "      <td>1.0</td>\n",
       "      <td>Middle</td>\n",
       "      <td>2018</td>\n",
       "      <td>3</td>\n",
       "      <td>31</td>\n",
       "    </tr>\n",
       "    <tr>\n",
       "      <th>230787</th>\n",
       "      <td>Texas</td>\n",
       "      <td>1</td>\n",
       "      <td>0</td>\n",
       "      <td>29.7201</td>\n",
       "      <td>-95.6110</td>\n",
       "      <td>1.0</td>\n",
       "      <td>Middle</td>\n",
       "      <td>2018</td>\n",
       "      <td>3</td>\n",
       "      <td>31</td>\n",
       "    </tr>\n",
       "    <tr>\n",
       "      <th>230788</th>\n",
       "      <td>Maine</td>\n",
       "      <td>2</td>\n",
       "      <td>0</td>\n",
       "      <td>44.7293</td>\n",
       "      <td>-69.7691</td>\n",
       "      <td>2.0</td>\n",
       "      <td>East</td>\n",
       "      <td>2018</td>\n",
       "      <td>3</td>\n",
       "      <td>31</td>\n",
       "    </tr>\n",
       "  </tbody>\n",
       "</table>\n",
       "<p>230789 rows × 10 columns</p>\n",
       "</div>"
      ],
      "text/plain": [
       "                 State  #_killed  #_injured  latitude  longitude  \\\n",
       "0         Pennsylvania         0          4   40.3467   -79.8559   \n",
       "1           California         1          3   33.9090  -118.3330   \n",
       "2                 Ohio         1          3   41.4455   -82.1377   \n",
       "3             Colorado         4          0   39.6518  -104.8020   \n",
       "4       North Carolina         2          2   36.1140   -79.9569   \n",
       "...                ...       ...        ...       ...        ...   \n",
       "230784      Washington         0          0   47.6638  -117.2350   \n",
       "230785       Louisiana         1          0   31.7537   -93.0836   \n",
       "230786       Louisiana         0          1   29.9239   -90.0442   \n",
       "230787           Texas         1          0   29.7201   -95.6110   \n",
       "230788           Maine         2          0   44.7293   -69.7691   \n",
       "\n",
       "        n_guns_involved Geographic_Region  Year  Month  Day  \n",
       "0                   1.0              East  2013      1    1  \n",
       "1                   1.0              West  2013      1    1  \n",
       "2                   2.0              East  2013      1    1  \n",
       "3                   1.0            Middle  2013      1    5  \n",
       "4                   2.0              East  2013      1    7  \n",
       "...                 ...               ...   ...    ...  ...  \n",
       "230784              1.0              West  2018      3   31  \n",
       "230785              1.0            Middle  2018      3   31  \n",
       "230786              1.0            Middle  2018      3   31  \n",
       "230787              1.0            Middle  2018      3   31  \n",
       "230788              2.0              East  2018      3   31  \n",
       "\n",
       "[230789 rows x 10 columns]"
      ]
     },
     "execution_count": 21,
     "metadata": {},
     "output_type": "execute_result"
    }
   ],
   "source": [
    "guns_1"
   ]
  },
  {
   "cell_type": "code",
   "execution_count": 22,
   "id": "e72b7b61",
   "metadata": {},
   "outputs": [
    {
     "data": {
      "text/plain": [
       "2017    59539\n",
       "2016    54266\n",
       "2015    52917\n",
       "2014    51663\n",
       "2018    12128\n",
       "2013      276\n",
       "Name: Year, dtype: int64"
      ]
     },
     "execution_count": 22,
     "metadata": {},
     "output_type": "execute_result"
    }
   ],
   "source": [
    "guns_1['Year'].value_counts()"
   ]
  },
  {
   "cell_type": "code",
   "execution_count": 23,
   "id": "d79227ea",
   "metadata": {},
   "outputs": [],
   "source": [
    "# Drop records from 2018, since the census data doesn't include information from this year \n",
    "\n",
    "guns_2 = guns_1.loc[guns_1['Year'] < 2018]"
   ]
  },
  {
   "cell_type": "code",
   "execution_count": 24,
   "id": "6528cb51",
   "metadata": {},
   "outputs": [
    {
     "data": {
      "text/plain": [
       "2017    59539\n",
       "2016    54266\n",
       "2015    52917\n",
       "2014    51663\n",
       "2013      276\n",
       "Name: Year, dtype: int64"
      ]
     },
     "execution_count": 24,
     "metadata": {},
     "output_type": "execute_result"
    }
   ],
   "source": [
    "guns_2['Year'].value_counts()"
   ]
  },
  {
   "cell_type": "code",
   "execution_count": 25,
   "id": "fe26b7be",
   "metadata": {},
   "outputs": [
    {
     "data": {
      "text/plain": [
       "State                 object\n",
       "#_killed               int64\n",
       "#_injured              int64\n",
       "latitude             float64\n",
       "longitude            float64\n",
       "n_guns_involved      float64\n",
       "Geographic_Region     object\n",
       "Year                   int64\n",
       "Month                  int64\n",
       "Day                    int64\n",
       "dtype: object"
      ]
     },
     "execution_count": 25,
     "metadata": {},
     "output_type": "execute_result"
    }
   ],
   "source": [
    "guns_2.dtypes"
   ]
  },
  {
   "cell_type": "code",
   "execution_count": 26,
   "id": "95dfad37",
   "metadata": {},
   "outputs": [
    {
     "name": "stderr",
     "output_type": "stream",
     "text": [
      "C:\\Users\\Megan\\AppData\\Local\\Temp\\ipykernel_3040\\4293645575.py:3: SettingWithCopyWarning: \n",
      "A value is trying to be set on a copy of a slice from a DataFrame.\n",
      "Try using .loc[row_indexer,col_indexer] = value instead\n",
      "\n",
      "See the caveats in the documentation: https://pandas.pydata.org/pandas-docs/stable/user_guide/indexing.html#returning-a-view-versus-a-copy\n",
      "  guns_2['Year'] = guns_2['Year'].astype('str')\n"
     ]
    }
   ],
   "source": [
    "# Convert year to string \n",
    "\n",
    "guns_2['Year'] = guns_2['Year'].astype('str')"
   ]
  },
  {
   "cell_type": "code",
   "execution_count": 27,
   "id": "1de8f723",
   "metadata": {},
   "outputs": [
    {
     "name": "stderr",
     "output_type": "stream",
     "text": [
      "C:\\Users\\Megan\\AppData\\Local\\Temp\\ipykernel_3040\\858458825.py:3: SettingWithCopyWarning: \n",
      "A value is trying to be set on a copy of a slice from a DataFrame.\n",
      "Try using .loc[row_indexer,col_indexer] = value instead\n",
      "\n",
      "See the caveats in the documentation: https://pandas.pydata.org/pandas-docs/stable/user_guide/indexing.html#returning-a-view-versus-a-copy\n",
      "  guns_2['State_Year'] = guns_2[['State', 'Year']].agg(', '.join, axis=1)\n"
     ]
    }
   ],
   "source": [
    "# Create column for state and year, to create key for joining data sets\n",
    "\n",
    "guns_2['State_Year'] = guns_2[['State', 'Year']].agg(', '.join, axis=1)"
   ]
  },
  {
   "cell_type": "code",
   "execution_count": 28,
   "id": "9b6d0bfe",
   "metadata": {},
   "outputs": [
    {
     "data": {
      "text/html": [
       "<div>\n",
       "<style scoped>\n",
       "    .dataframe tbody tr th:only-of-type {\n",
       "        vertical-align: middle;\n",
       "    }\n",
       "\n",
       "    .dataframe tbody tr th {\n",
       "        vertical-align: top;\n",
       "    }\n",
       "\n",
       "    .dataframe thead th {\n",
       "        text-align: right;\n",
       "    }\n",
       "</style>\n",
       "<table border=\"1\" class=\"dataframe\">\n",
       "  <thead>\n",
       "    <tr style=\"text-align: right;\">\n",
       "      <th></th>\n",
       "      <th>State</th>\n",
       "      <th>#_killed</th>\n",
       "      <th>#_injured</th>\n",
       "      <th>latitude</th>\n",
       "      <th>longitude</th>\n",
       "      <th>n_guns_involved</th>\n",
       "      <th>Geographic_Region</th>\n",
       "      <th>Year</th>\n",
       "      <th>Month</th>\n",
       "      <th>Day</th>\n",
       "      <th>State_Year</th>\n",
       "    </tr>\n",
       "  </thead>\n",
       "  <tbody>\n",
       "    <tr>\n",
       "      <th>0</th>\n",
       "      <td>Pennsylvania</td>\n",
       "      <td>0</td>\n",
       "      <td>4</td>\n",
       "      <td>40.3467</td>\n",
       "      <td>-79.8559</td>\n",
       "      <td>1.0</td>\n",
       "      <td>East</td>\n",
       "      <td>2013</td>\n",
       "      <td>1</td>\n",
       "      <td>1</td>\n",
       "      <td>Pennsylvania, 2013</td>\n",
       "    </tr>\n",
       "    <tr>\n",
       "      <th>1</th>\n",
       "      <td>California</td>\n",
       "      <td>1</td>\n",
       "      <td>3</td>\n",
       "      <td>33.9090</td>\n",
       "      <td>-118.3330</td>\n",
       "      <td>1.0</td>\n",
       "      <td>West</td>\n",
       "      <td>2013</td>\n",
       "      <td>1</td>\n",
       "      <td>1</td>\n",
       "      <td>California, 2013</td>\n",
       "    </tr>\n",
       "    <tr>\n",
       "      <th>2</th>\n",
       "      <td>Ohio</td>\n",
       "      <td>1</td>\n",
       "      <td>3</td>\n",
       "      <td>41.4455</td>\n",
       "      <td>-82.1377</td>\n",
       "      <td>2.0</td>\n",
       "      <td>East</td>\n",
       "      <td>2013</td>\n",
       "      <td>1</td>\n",
       "      <td>1</td>\n",
       "      <td>Ohio, 2013</td>\n",
       "    </tr>\n",
       "    <tr>\n",
       "      <th>3</th>\n",
       "      <td>Colorado</td>\n",
       "      <td>4</td>\n",
       "      <td>0</td>\n",
       "      <td>39.6518</td>\n",
       "      <td>-104.8020</td>\n",
       "      <td>1.0</td>\n",
       "      <td>Middle</td>\n",
       "      <td>2013</td>\n",
       "      <td>1</td>\n",
       "      <td>5</td>\n",
       "      <td>Colorado, 2013</td>\n",
       "    </tr>\n",
       "    <tr>\n",
       "      <th>4</th>\n",
       "      <td>North Carolina</td>\n",
       "      <td>2</td>\n",
       "      <td>2</td>\n",
       "      <td>36.1140</td>\n",
       "      <td>-79.9569</td>\n",
       "      <td>2.0</td>\n",
       "      <td>East</td>\n",
       "      <td>2013</td>\n",
       "      <td>1</td>\n",
       "      <td>7</td>\n",
       "      <td>North Carolina, 2013</td>\n",
       "    </tr>\n",
       "  </tbody>\n",
       "</table>\n",
       "</div>"
      ],
      "text/plain": [
       "            State  #_killed  #_injured  latitude  longitude  n_guns_involved  \\\n",
       "0    Pennsylvania         0          4   40.3467   -79.8559              1.0   \n",
       "1      California         1          3   33.9090  -118.3330              1.0   \n",
       "2            Ohio         1          3   41.4455   -82.1377              2.0   \n",
       "3        Colorado         4          0   39.6518  -104.8020              1.0   \n",
       "4  North Carolina         2          2   36.1140   -79.9569              2.0   \n",
       "\n",
       "  Geographic_Region  Year  Month  Day            State_Year  \n",
       "0              East  2013      1    1    Pennsylvania, 2013  \n",
       "1              West  2013      1    1      California, 2013  \n",
       "2              East  2013      1    1            Ohio, 2013  \n",
       "3            Middle  2013      1    5        Colorado, 2013  \n",
       "4              East  2013      1    7  North Carolina, 2013  "
      ]
     },
     "execution_count": 28,
     "metadata": {},
     "output_type": "execute_result"
    }
   ],
   "source": [
    "guns_2.head()"
   ]
  },
  {
   "cell_type": "code",
   "execution_count": 29,
   "id": "01044cf3",
   "metadata": {},
   "outputs": [
    {
     "data": {
      "text/plain": [
       "7     20812\n",
       "8     20299\n",
       "5     19718\n",
       "6     18514\n",
       "4     18422\n",
       "9     18406\n",
       "10    18402\n",
       "1     17974\n",
       "3     17675\n",
       "12    17223\n",
       "11    16658\n",
       "2     14558\n",
       "Name: Month, dtype: int64"
      ]
     },
     "execution_count": 29,
     "metadata": {},
     "output_type": "execute_result"
    }
   ],
   "source": [
    "guns_2['Month'].value_counts()"
   ]
  },
  {
   "cell_type": "code",
   "execution_count": 30,
   "id": "a4831a3b",
   "metadata": {},
   "outputs": [],
   "source": [
    "# Create bar graph for number of incidents each month \n",
    "# Create stacked bar graph for #_killed vs #_injured each month "
   ]
  },
  {
   "cell_type": "code",
   "execution_count": 31,
   "id": "59d466bb",
   "metadata": {},
   "outputs": [
    {
     "data": {
      "text/plain": [
       "1     7728\n",
       "19    7384\n",
       "20    7341\n",
       "25    7329\n",
       "27    7305\n",
       "26    7272\n",
       "17    7267\n",
       "5     7261\n",
       "13    7248\n",
       "28    7203\n",
       "15    7189\n",
       "16    7180\n",
       "4     7173\n",
       "23    7169\n",
       "18    7163\n",
       "8     7141\n",
       "11    7114\n",
       "12    7100\n",
       "3     7061\n",
       "6     7058\n",
       "21    7055\n",
       "9     7035\n",
       "7     7023\n",
       "22    7023\n",
       "2     7013\n",
       "24    6976\n",
       "14    6952\n",
       "29    6881\n",
       "10    6869\n",
       "30    6742\n",
       "31    4406\n",
       "Name: Day, dtype: int64"
      ]
     },
     "execution_count": 31,
     "metadata": {},
     "output_type": "execute_result"
    }
   ],
   "source": [
    "guns_2['Day'].value_counts()"
   ]
  },
  {
   "cell_type": "code",
   "execution_count": 32,
   "id": "7aea1ee0",
   "metadata": {},
   "outputs": [
    {
     "data": {
      "text/plain": [
       "(218661, 11)"
      ]
     },
     "execution_count": 32,
     "metadata": {},
     "output_type": "execute_result"
    }
   ],
   "source": [
    "guns_2.shape"
   ]
  },
  {
   "cell_type": "code",
   "execution_count": 33,
   "id": "9fbdef00",
   "metadata": {},
   "outputs": [
    {
     "data": {
      "text/plain": [
       "(255, 2)"
      ]
     },
     "execution_count": 33,
     "metadata": {},
     "output_type": "execute_result"
    }
   ],
   "source": [
    "Census.shape"
   ]
  },
  {
   "cell_type": "code",
   "execution_count": 34,
   "id": "6bfffcba",
   "metadata": {},
   "outputs": [],
   "source": [
    "# Merge data frames \n",
    "\n",
    "data_combined = guns_2.merge(Census, on = ['State_Year'], how = 'outer')"
   ]
  },
  {
   "cell_type": "code",
   "execution_count": 35,
   "id": "6dca1673",
   "metadata": {},
   "outputs": [
    {
     "data": {
      "text/plain": [
       "(218675, 12)"
      ]
     },
     "execution_count": 35,
     "metadata": {},
     "output_type": "execute_result"
    }
   ],
   "source": [
    "data_combined.shape"
   ]
  },
  {
   "cell_type": "code",
   "execution_count": 37,
   "id": "0297f545",
   "metadata": {},
   "outputs": [
    {
     "data": {
      "text/html": [
       "<div>\n",
       "<style scoped>\n",
       "    .dataframe tbody tr th:only-of-type {\n",
       "        vertical-align: middle;\n",
       "    }\n",
       "\n",
       "    .dataframe tbody tr th {\n",
       "        vertical-align: top;\n",
       "    }\n",
       "\n",
       "    .dataframe thead th {\n",
       "        text-align: right;\n",
       "    }\n",
       "</style>\n",
       "<table border=\"1\" class=\"dataframe\">\n",
       "  <thead>\n",
       "    <tr style=\"text-align: right;\">\n",
       "      <th></th>\n",
       "      <th>State</th>\n",
       "      <th>#_killed</th>\n",
       "      <th>#_injured</th>\n",
       "      <th>latitude</th>\n",
       "      <th>longitude</th>\n",
       "      <th>n_guns_involved</th>\n",
       "      <th>Geographic_Region</th>\n",
       "      <th>Year</th>\n",
       "      <th>Month</th>\n",
       "      <th>Day</th>\n",
       "      <th>State_Year</th>\n",
       "      <th>Total Population</th>\n",
       "    </tr>\n",
       "  </thead>\n",
       "  <tbody>\n",
       "    <tr>\n",
       "      <th>0</th>\n",
       "      <td>Pennsylvania</td>\n",
       "      <td>0.0</td>\n",
       "      <td>4.0</td>\n",
       "      <td>40.3467</td>\n",
       "      <td>-79.8559</td>\n",
       "      <td>1.0</td>\n",
       "      <td>East</td>\n",
       "      <td>2013</td>\n",
       "      <td>1.0</td>\n",
       "      <td>1.0</td>\n",
       "      <td>Pennsylvania, 2013</td>\n",
       "      <td>12583354</td>\n",
       "    </tr>\n",
       "    <tr>\n",
       "      <th>1</th>\n",
       "      <td>Pennsylvania</td>\n",
       "      <td>1.0</td>\n",
       "      <td>3.0</td>\n",
       "      <td>39.9924</td>\n",
       "      <td>-75.1300</td>\n",
       "      <td>1.0</td>\n",
       "      <td>East</td>\n",
       "      <td>2013</td>\n",
       "      <td>4.0</td>\n",
       "      <td>9.0</td>\n",
       "      <td>Pennsylvania, 2013</td>\n",
       "      <td>12583354</td>\n",
       "    </tr>\n",
       "    <tr>\n",
       "      <th>2</th>\n",
       "      <td>Pennsylvania</td>\n",
       "      <td>1.0</td>\n",
       "      <td>3.0</td>\n",
       "      <td>39.8564</td>\n",
       "      <td>-75.3587</td>\n",
       "      <td>2.0</td>\n",
       "      <td>East</td>\n",
       "      <td>2013</td>\n",
       "      <td>4.0</td>\n",
       "      <td>28.0</td>\n",
       "      <td>Pennsylvania, 2013</td>\n",
       "      <td>12583354</td>\n",
       "    </tr>\n",
       "    <tr>\n",
       "      <th>3</th>\n",
       "      <td>Pennsylvania</td>\n",
       "      <td>0.0</td>\n",
       "      <td>4.0</td>\n",
       "      <td>40.3091</td>\n",
       "      <td>-78.9124</td>\n",
       "      <td>1.0</td>\n",
       "      <td>East</td>\n",
       "      <td>2013</td>\n",
       "      <td>5.0</td>\n",
       "      <td>6.0</td>\n",
       "      <td>Pennsylvania, 2013</td>\n",
       "      <td>12583354</td>\n",
       "    </tr>\n",
       "    <tr>\n",
       "      <th>4</th>\n",
       "      <td>Pennsylvania</td>\n",
       "      <td>0.0</td>\n",
       "      <td>4.0</td>\n",
       "      <td>40.0505</td>\n",
       "      <td>-75.1554</td>\n",
       "      <td>1.0</td>\n",
       "      <td>East</td>\n",
       "      <td>2013</td>\n",
       "      <td>5.0</td>\n",
       "      <td>11.0</td>\n",
       "      <td>Pennsylvania, 2013</td>\n",
       "      <td>12583354</td>\n",
       "    </tr>\n",
       "  </tbody>\n",
       "</table>\n",
       "</div>"
      ],
      "text/plain": [
       "          State  #_killed  #_injured  latitude  longitude  n_guns_involved  \\\n",
       "0  Pennsylvania       0.0        4.0   40.3467   -79.8559              1.0   \n",
       "1  Pennsylvania       1.0        3.0   39.9924   -75.1300              1.0   \n",
       "2  Pennsylvania       1.0        3.0   39.8564   -75.3587              2.0   \n",
       "3  Pennsylvania       0.0        4.0   40.3091   -78.9124              1.0   \n",
       "4  Pennsylvania       0.0        4.0   40.0505   -75.1554              1.0   \n",
       "\n",
       "  Geographic_Region  Year  Month   Day          State_Year   Total Population   \n",
       "0              East  2013    1.0   1.0  Pennsylvania, 2013            12583354  \n",
       "1              East  2013    4.0   9.0  Pennsylvania, 2013            12583354  \n",
       "2              East  2013    4.0  28.0  Pennsylvania, 2013            12583354  \n",
       "3              East  2013    5.0   6.0  Pennsylvania, 2013            12583354  \n",
       "4              East  2013    5.0  11.0  Pennsylvania, 2013            12583354  "
      ]
     },
     "execution_count": 37,
     "metadata": {},
     "output_type": "execute_result"
    }
   ],
   "source": [
    "data_combined.head()"
   ]
  },
  {
   "cell_type": "code",
   "execution_count": 36,
   "id": "0b4503fc",
   "metadata": {},
   "outputs": [
    {
     "data": {
      "text/plain": [
       "State                 14\n",
       "#_killed              14\n",
       "#_injured             14\n",
       "latitude              14\n",
       "longitude             14\n",
       "n_guns_involved       14\n",
       "Geographic_Region     14\n",
       "Year                  14\n",
       "Month                 14\n",
       "Day                   14\n",
       "State_Year             0\n",
       " Total Population      0\n",
       "dtype: int64"
      ]
     },
     "execution_count": 36,
     "metadata": {},
     "output_type": "execute_result"
    }
   ],
   "source": [
    "data_combined.isnull().sum()"
   ]
  },
  {
   "cell_type": "code",
   "execution_count": 38,
   "id": "c371a370",
   "metadata": {},
   "outputs": [],
   "source": [
    "# Create subset without null values \n",
    "\n",
    "data_combined.dropna(inplace=True)"
   ]
  },
  {
   "cell_type": "code",
   "execution_count": 39,
   "id": "a2476095",
   "metadata": {},
   "outputs": [
    {
     "data": {
      "text/plain": [
       "State                 0\n",
       "#_killed              0\n",
       "#_injured             0\n",
       "latitude              0\n",
       "longitude             0\n",
       "n_guns_involved       0\n",
       "Geographic_Region     0\n",
       "Year                  0\n",
       "Month                 0\n",
       "Day                   0\n",
       "State_Year            0\n",
       " Total Population     0\n",
       "dtype: int64"
      ]
     },
     "execution_count": 39,
     "metadata": {},
     "output_type": "execute_result"
    }
   ],
   "source": [
    "# Check output \n",
    "\n",
    "data_combined.isnull().sum()"
   ]
  },
  {
   "cell_type": "code",
   "execution_count": 40,
   "id": "c94e66fe",
   "metadata": {},
   "outputs": [],
   "source": [
    "# Export combined dataframe \n",
    "\n",
    "data_combined.to_csv(os.path.join(path, '02 Data','Prepared Data','guns_census_merge.csv'))"
   ]
  },
  {
   "cell_type": "code",
   "execution_count": null,
   "id": "02de5366",
   "metadata": {},
   "outputs": [],
   "source": []
  }
 ],
 "metadata": {
  "kernelspec": {
   "display_name": "Python 3 (ipykernel)",
   "language": "python",
   "name": "python3"
  },
  "language_info": {
   "codemirror_mode": {
    "name": "ipython",
    "version": 3
   },
   "file_extension": ".py",
   "mimetype": "text/x-python",
   "name": "python",
   "nbconvert_exporter": "python",
   "pygments_lexer": "ipython3",
   "version": "3.9.13"
  }
 },
 "nbformat": 4,
 "nbformat_minor": 5
}
