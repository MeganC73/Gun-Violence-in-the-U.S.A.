{
 "cells": [
  {
   "cell_type": "markdown",
   "id": "649db6fe",
   "metadata": {},
   "source": [
    "### 02. Import Libraries, including all scikit-learn tools"
   ]
  },
  {
   "cell_type": "code",
   "execution_count": 1,
   "id": "991553f1",
   "metadata": {},
   "outputs": [],
   "source": [
    "# Import libraries \n",
    "import pandas as pd \n",
    "import numpy as np \n",
    "import os \n",
    "import seaborn as sns \n",
    "import matplotlib.pyplot as plt \n",
    "import matplotlib \n",
    "import sklearn \n",
    "from sklearn.model_selection import train_test_split \n",
    "from sklearn.linear_model import LinearRegression \n",
    "from sklearn.metrics import mean_squared_error, r2_score"
   ]
  },
  {
   "cell_type": "code",
   "execution_count": 2,
   "id": "3e83a6ba",
   "metadata": {},
   "outputs": [
    {
     "name": "stdout",
     "output_type": "stream",
     "text": [
      "Current Directory:  C:\\Users\\Megan\\Documents\\Analytics\\Gun Violence Achievement 6\\03 Scripts\n",
      "Parent Directory:  C:\\Users\\Megan\\Documents\\Analytics\\Gun Violence Achievement 6\n"
     ]
    }
   ],
   "source": [
    "# Get path\n",
    "\n",
    "cdir = os.getcwd() \n",
    "print(\"Current Directory: \", cdir) \n",
    "print(\"Parent Directory: \", os.path.dirname(cdir))"
   ]
  },
  {
   "cell_type": "code",
   "execution_count": 3,
   "id": "638684a2",
   "metadata": {},
   "outputs": [],
   "source": [
    "path = r'C:\\Users\\Megan\\Documents\\Analytics\\Gun Violence Achievement 6'"
   ]
  },
  {
   "cell_type": "code",
   "execution_count": 4,
   "id": "6c54a661",
   "metadata": {},
   "outputs": [],
   "source": [
    "# Import Data Frame \n",
    "\n",
    "df = pd.read_csv(os.path.join(path, '02 Data','Raw Data','Geo_region_data.csv'), index_col = False)"
   ]
  },
  {
   "cell_type": "code",
   "execution_count": 5,
   "id": "97b0c0d3",
   "metadata": {},
   "outputs": [
    {
     "data": {
      "text/html": [
       "<div>\n",
       "<style scoped>\n",
       "    .dataframe tbody tr th:only-of-type {\n",
       "        vertical-align: middle;\n",
       "    }\n",
       "\n",
       "    .dataframe tbody tr th {\n",
       "        vertical-align: top;\n",
       "    }\n",
       "\n",
       "    .dataframe thead th {\n",
       "        text-align: right;\n",
       "    }\n",
       "</style>\n",
       "<table border=\"1\" class=\"dataframe\">\n",
       "  <thead>\n",
       "    <tr style=\"text-align: right;\">\n",
       "      <th></th>\n",
       "      <th>Unnamed: 0</th>\n",
       "      <th>Incident_id</th>\n",
       "      <th>Date</th>\n",
       "      <th>State</th>\n",
       "      <th>City_or_County</th>\n",
       "      <th>#_killed</th>\n",
       "      <th>#_injured</th>\n",
       "      <th>latitude</th>\n",
       "      <th>longitude</th>\n",
       "      <th>n_guns_involved</th>\n",
       "      <th>participant_age_group</th>\n",
       "      <th>participant_gender</th>\n",
       "      <th>Geographic_Region</th>\n",
       "    </tr>\n",
       "  </thead>\n",
       "  <tbody>\n",
       "    <tr>\n",
       "      <th>0</th>\n",
       "      <td>0</td>\n",
       "      <td>461105</td>\n",
       "      <td>1/1/2013</td>\n",
       "      <td>Pennsylvania</td>\n",
       "      <td>Mckeesport</td>\n",
       "      <td>0</td>\n",
       "      <td>4</td>\n",
       "      <td>40.3467</td>\n",
       "      <td>-79.8559</td>\n",
       "      <td>1.0</td>\n",
       "      <td>0::Adult 18+||1::Adult 18+||2::Adult 18+||3::A...</td>\n",
       "      <td>0::Male||1::Male||3::Male||4::Female</td>\n",
       "      <td>East</td>\n",
       "    </tr>\n",
       "    <tr>\n",
       "      <th>1</th>\n",
       "      <td>1</td>\n",
       "      <td>460726</td>\n",
       "      <td>1/1/2013</td>\n",
       "      <td>California</td>\n",
       "      <td>Hawthorne</td>\n",
       "      <td>1</td>\n",
       "      <td>3</td>\n",
       "      <td>33.9090</td>\n",
       "      <td>-118.3330</td>\n",
       "      <td>1.0</td>\n",
       "      <td>0::Adult 18+||1::Adult 18+||2::Adult 18+||3::A...</td>\n",
       "      <td>0::Male</td>\n",
       "      <td>West</td>\n",
       "    </tr>\n",
       "    <tr>\n",
       "      <th>2</th>\n",
       "      <td>2</td>\n",
       "      <td>478855</td>\n",
       "      <td>1/1/2013</td>\n",
       "      <td>Ohio</td>\n",
       "      <td>Lorain</td>\n",
       "      <td>1</td>\n",
       "      <td>3</td>\n",
       "      <td>41.4455</td>\n",
       "      <td>-82.1377</td>\n",
       "      <td>2.0</td>\n",
       "      <td>0::Adult 18+||1::Adult 18+||2::Adult 18+||3::A...</td>\n",
       "      <td>0::Male||1::Male||2::Male||3::Male||4::Male</td>\n",
       "      <td>East</td>\n",
       "    </tr>\n",
       "    <tr>\n",
       "      <th>3</th>\n",
       "      <td>3</td>\n",
       "      <td>478925</td>\n",
       "      <td>1/5/2013</td>\n",
       "      <td>Colorado</td>\n",
       "      <td>Aurora</td>\n",
       "      <td>4</td>\n",
       "      <td>0</td>\n",
       "      <td>39.6518</td>\n",
       "      <td>-104.8020</td>\n",
       "      <td>1.0</td>\n",
       "      <td>0::Adult 18+||1::Adult 18+||2::Adult 18+||3::A...</td>\n",
       "      <td>0::Female||1::Male||2::Male||3::Male</td>\n",
       "      <td>Middle</td>\n",
       "    </tr>\n",
       "    <tr>\n",
       "      <th>4</th>\n",
       "      <td>4</td>\n",
       "      <td>478959</td>\n",
       "      <td>1/7/2013</td>\n",
       "      <td>North Carolina</td>\n",
       "      <td>Greensboro</td>\n",
       "      <td>2</td>\n",
       "      <td>2</td>\n",
       "      <td>36.1140</td>\n",
       "      <td>-79.9569</td>\n",
       "      <td>2.0</td>\n",
       "      <td>0::Adult 18+||1::Adult 18+||2::Teen 12-17||3::...</td>\n",
       "      <td>0::Female||1::Male||2::Male||3::Female</td>\n",
       "      <td>East</td>\n",
       "    </tr>\n",
       "  </tbody>\n",
       "</table>\n",
       "</div>"
      ],
      "text/plain": [
       "   Unnamed: 0  Incident_id      Date           State City_or_County  #_killed  \\\n",
       "0           0       461105  1/1/2013    Pennsylvania     Mckeesport         0   \n",
       "1           1       460726  1/1/2013      California      Hawthorne         1   \n",
       "2           2       478855  1/1/2013            Ohio         Lorain         1   \n",
       "3           3       478925  1/5/2013        Colorado         Aurora         4   \n",
       "4           4       478959  1/7/2013  North Carolina     Greensboro         2   \n",
       "\n",
       "   #_injured  latitude  longitude  n_guns_involved  \\\n",
       "0          4   40.3467   -79.8559              1.0   \n",
       "1          3   33.9090  -118.3330              1.0   \n",
       "2          3   41.4455   -82.1377              2.0   \n",
       "3          0   39.6518  -104.8020              1.0   \n",
       "4          2   36.1140   -79.9569              2.0   \n",
       "\n",
       "                               participant_age_group  \\\n",
       "0  0::Adult 18+||1::Adult 18+||2::Adult 18+||3::A...   \n",
       "1  0::Adult 18+||1::Adult 18+||2::Adult 18+||3::A...   \n",
       "2  0::Adult 18+||1::Adult 18+||2::Adult 18+||3::A...   \n",
       "3  0::Adult 18+||1::Adult 18+||2::Adult 18+||3::A...   \n",
       "4  0::Adult 18+||1::Adult 18+||2::Teen 12-17||3::...   \n",
       "\n",
       "                            participant_gender Geographic_Region  \n",
       "0         0::Male||1::Male||3::Male||4::Female              East  \n",
       "1                                      0::Male              West  \n",
       "2  0::Male||1::Male||2::Male||3::Male||4::Male              East  \n",
       "3         0::Female||1::Male||2::Male||3::Male            Middle  \n",
       "4       0::Female||1::Male||2::Male||3::Female              East  "
      ]
     },
     "execution_count": 5,
     "metadata": {},
     "output_type": "execute_result"
    }
   ],
   "source": [
    "df.head()"
   ]
  },
  {
   "cell_type": "markdown",
   "id": "3126b490",
   "metadata": {},
   "source": [
    "### 03. Clean data to prepare for analysis"
   ]
  },
  {
   "cell_type": "code",
   "execution_count": 6,
   "id": "34b0d9f5",
   "metadata": {},
   "outputs": [],
   "source": [
    "# Remove unnamed column \n",
    "\n",
    "df = df.drop(columns = ['Unnamed: 0'])"
   ]
  },
  {
   "cell_type": "code",
   "execution_count": 7,
   "id": "9cdcee4c",
   "metadata": {},
   "outputs": [
    {
     "data": {
      "text/html": [
       "<div>\n",
       "<style scoped>\n",
       "    .dataframe tbody tr th:only-of-type {\n",
       "        vertical-align: middle;\n",
       "    }\n",
       "\n",
       "    .dataframe tbody tr th {\n",
       "        vertical-align: top;\n",
       "    }\n",
       "\n",
       "    .dataframe thead th {\n",
       "        text-align: right;\n",
       "    }\n",
       "</style>\n",
       "<table border=\"1\" class=\"dataframe\">\n",
       "  <thead>\n",
       "    <tr style=\"text-align: right;\">\n",
       "      <th></th>\n",
       "      <th>Incident_id</th>\n",
       "      <th>Date</th>\n",
       "      <th>State</th>\n",
       "      <th>City_or_County</th>\n",
       "      <th>#_killed</th>\n",
       "      <th>#_injured</th>\n",
       "      <th>latitude</th>\n",
       "      <th>longitude</th>\n",
       "      <th>n_guns_involved</th>\n",
       "      <th>participant_age_group</th>\n",
       "      <th>participant_gender</th>\n",
       "      <th>Geographic_Region</th>\n",
       "    </tr>\n",
       "  </thead>\n",
       "  <tbody>\n",
       "    <tr>\n",
       "      <th>0</th>\n",
       "      <td>461105</td>\n",
       "      <td>1/1/2013</td>\n",
       "      <td>Pennsylvania</td>\n",
       "      <td>Mckeesport</td>\n",
       "      <td>0</td>\n",
       "      <td>4</td>\n",
       "      <td>40.3467</td>\n",
       "      <td>-79.8559</td>\n",
       "      <td>1.0</td>\n",
       "      <td>0::Adult 18+||1::Adult 18+||2::Adult 18+||3::A...</td>\n",
       "      <td>0::Male||1::Male||3::Male||4::Female</td>\n",
       "      <td>East</td>\n",
       "    </tr>\n",
       "    <tr>\n",
       "      <th>1</th>\n",
       "      <td>460726</td>\n",
       "      <td>1/1/2013</td>\n",
       "      <td>California</td>\n",
       "      <td>Hawthorne</td>\n",
       "      <td>1</td>\n",
       "      <td>3</td>\n",
       "      <td>33.9090</td>\n",
       "      <td>-118.3330</td>\n",
       "      <td>1.0</td>\n",
       "      <td>0::Adult 18+||1::Adult 18+||2::Adult 18+||3::A...</td>\n",
       "      <td>0::Male</td>\n",
       "      <td>West</td>\n",
       "    </tr>\n",
       "    <tr>\n",
       "      <th>2</th>\n",
       "      <td>478855</td>\n",
       "      <td>1/1/2013</td>\n",
       "      <td>Ohio</td>\n",
       "      <td>Lorain</td>\n",
       "      <td>1</td>\n",
       "      <td>3</td>\n",
       "      <td>41.4455</td>\n",
       "      <td>-82.1377</td>\n",
       "      <td>2.0</td>\n",
       "      <td>0::Adult 18+||1::Adult 18+||2::Adult 18+||3::A...</td>\n",
       "      <td>0::Male||1::Male||2::Male||3::Male||4::Male</td>\n",
       "      <td>East</td>\n",
       "    </tr>\n",
       "    <tr>\n",
       "      <th>3</th>\n",
       "      <td>478925</td>\n",
       "      <td>1/5/2013</td>\n",
       "      <td>Colorado</td>\n",
       "      <td>Aurora</td>\n",
       "      <td>4</td>\n",
       "      <td>0</td>\n",
       "      <td>39.6518</td>\n",
       "      <td>-104.8020</td>\n",
       "      <td>1.0</td>\n",
       "      <td>0::Adult 18+||1::Adult 18+||2::Adult 18+||3::A...</td>\n",
       "      <td>0::Female||1::Male||2::Male||3::Male</td>\n",
       "      <td>Middle</td>\n",
       "    </tr>\n",
       "    <tr>\n",
       "      <th>4</th>\n",
       "      <td>478959</td>\n",
       "      <td>1/7/2013</td>\n",
       "      <td>North Carolina</td>\n",
       "      <td>Greensboro</td>\n",
       "      <td>2</td>\n",
       "      <td>2</td>\n",
       "      <td>36.1140</td>\n",
       "      <td>-79.9569</td>\n",
       "      <td>2.0</td>\n",
       "      <td>0::Adult 18+||1::Adult 18+||2::Teen 12-17||3::...</td>\n",
       "      <td>0::Female||1::Male||2::Male||3::Female</td>\n",
       "      <td>East</td>\n",
       "    </tr>\n",
       "  </tbody>\n",
       "</table>\n",
       "</div>"
      ],
      "text/plain": [
       "   Incident_id      Date           State City_or_County  #_killed  #_injured  \\\n",
       "0       461105  1/1/2013    Pennsylvania     Mckeesport         0          4   \n",
       "1       460726  1/1/2013      California      Hawthorne         1          3   \n",
       "2       478855  1/1/2013            Ohio         Lorain         1          3   \n",
       "3       478925  1/5/2013        Colorado         Aurora         4          0   \n",
       "4       478959  1/7/2013  North Carolina     Greensboro         2          2   \n",
       "\n",
       "   latitude  longitude  n_guns_involved  \\\n",
       "0   40.3467   -79.8559              1.0   \n",
       "1   33.9090  -118.3330              1.0   \n",
       "2   41.4455   -82.1377              2.0   \n",
       "3   39.6518  -104.8020              1.0   \n",
       "4   36.1140   -79.9569              2.0   \n",
       "\n",
       "                               participant_age_group  \\\n",
       "0  0::Adult 18+||1::Adult 18+||2::Adult 18+||3::A...   \n",
       "1  0::Adult 18+||1::Adult 18+||2::Adult 18+||3::A...   \n",
       "2  0::Adult 18+||1::Adult 18+||2::Adult 18+||3::A...   \n",
       "3  0::Adult 18+||1::Adult 18+||2::Adult 18+||3::A...   \n",
       "4  0::Adult 18+||1::Adult 18+||2::Teen 12-17||3::...   \n",
       "\n",
       "                            participant_gender Geographic_Region  \n",
       "0         0::Male||1::Male||3::Male||4::Female              East  \n",
       "1                                      0::Male              West  \n",
       "2  0::Male||1::Male||2::Male||3::Male||4::Male              East  \n",
       "3         0::Female||1::Male||2::Male||3::Male            Middle  \n",
       "4       0::Female||1::Male||2::Male||3::Female              East  "
      ]
     },
     "execution_count": 7,
     "metadata": {},
     "output_type": "execute_result"
    }
   ],
   "source": [
    "df.head()"
   ]
  },
  {
   "cell_type": "code",
   "execution_count": 8,
   "id": "a85c696f",
   "metadata": {},
   "outputs": [
    {
     "data": {
      "text/plain": [
       "Incident_id                  0\n",
       "Date                         0\n",
       "State                        0\n",
       "City_or_County               0\n",
       "#_killed                     0\n",
       "#_injured                    0\n",
       "latitude                     0\n",
       "longitude                    0\n",
       "n_guns_involved              0\n",
       "participant_age_group    40872\n",
       "participant_gender       35313\n",
       "Geographic_Region            0\n",
       "dtype: int64"
      ]
     },
     "execution_count": 8,
     "metadata": {},
     "output_type": "execute_result"
    }
   ],
   "source": [
    "# Check for missing values \n",
    "\n",
    "df.isnull().sum()"
   ]
  },
  {
   "cell_type": "markdown",
   "id": "0b583b5d",
   "metadata": {},
   "source": [
    "#### Missing values were addressed in last exercise. Since the participant columns are unstructured data, the missing values were disregarded."
   ]
  },
  {
   "cell_type": "code",
   "execution_count": 9,
   "id": "ad4f9791",
   "metadata": {},
   "outputs": [],
   "source": [
    "# Check for duplicate values \n",
    "\n",
    "dups = df.duplicated()"
   ]
  },
  {
   "cell_type": "code",
   "execution_count": 10,
   "id": "c1c95e17",
   "metadata": {},
   "outputs": [
    {
     "data": {
      "text/plain": [
       "(230790,)"
      ]
     },
     "execution_count": 10,
     "metadata": {},
     "output_type": "execute_result"
    }
   ],
   "source": [
    "dups.shape # No duplicate values"
   ]
  },
  {
   "cell_type": "markdown",
   "id": "9aee23e3",
   "metadata": {},
   "source": [
    "### 04. Explore your data visually (e.g., by way of a scatterplot), looking for variables whose relationship you’d like to test."
   ]
  },
  {
   "cell_type": "code",
   "execution_count": 11,
   "id": "c4b7668c",
   "metadata": {},
   "outputs": [
    {
     "data": {
      "image/png": "[encoded data removed]",
      "text/plain": [
       "<Figure size 500x500 with 1 Axes>"
      ]
     },
     "metadata": {},
     "output_type": "display_data"
    }
   ],
   "source": [
    "sns.lmplot(x = 'n_guns_involved', y = '#_killed', data = df)\n",
    "plt.show()"
   ]
  },
  {
   "cell_type": "code",
   "execution_count": 12,
   "id": "d223796d",
   "metadata": {},
   "outputs": [
    {
     "data": {
      "image/png": "[encoded data removed]",
      "text/plain": [
       "<Figure size 500x500 with 1 Axes>"
      ]
     },
     "metadata": {},
     "output_type": "display_data"
    }
   ],
   "source": [
    "sns.lmplot(x = '#_injured', y = 'n_guns_involved', data = df) \n",
    "plt.show()"
   ]
  },
  {
   "cell_type": "code",
   "execution_count": 13,
   "id": "d383325f",
   "metadata": {},
   "outputs": [
    {
     "data": {
      "image/png": "[encoded data removed]",
      "text/plain": [
       "<Figure size 660.347x500 with 1 Axes>"
      ]
     },
     "metadata": {},
     "output_type": "display_data"
    }
   ],
   "source": [
    "# Create plot to show relationship by region\n",
    "\n",
    "sns.set(style = 'ticks') \n",
    "sns.catplot(x='#_injured', y='n_guns_involved', hue='Geographic_Region', data=df) \n",
    "plt.show()"
   ]
  },
  {
   "cell_type": "code",
   "execution_count": 14,
   "id": "1113e3b3",
   "metadata": {},
   "outputs": [
    {
     "data": {
      "image/png": "[encoded data removed]",
      "text/plain": [
       "<Figure size 640x480 with 1 Axes>"
      ]
     },
     "metadata": {},
     "output_type": "display_data"
    }
   ],
   "source": [
    "df.plot(x = '#_injured', y='n_guns_involved',style='o')\n",
    "plt.title('Number of Injured by Number of Guns involved')  \n",
    "plt.xlabel('#_injured')  \n",
    "plt.ylabel('n_guns_involved')  \n",
    "plt.show()"
   ]
  },
  {
   "cell_type": "code",
   "execution_count": 15,
   "id": "4d6786c6",
   "metadata": {},
   "outputs": [],
   "source": [
    "# Create new data frame to eliminate #_injured outlier \n",
    "\n",
    "df_new = df.loc[df['#_injured'] <= 40]"
   ]
  },
  {
   "cell_type": "code",
   "execution_count": 16,
   "id": "1fb75577",
   "metadata": {},
   "outputs": [
    {
     "data": {
      "image/png": "[encoded data removed]",
      "text/plain": [
       "<Figure size 640x480 with 1 Axes>"
      ]
     },
     "metadata": {},
     "output_type": "display_data"
    }
   ],
   "source": [
    "# Create new plot \n",
    "\n",
    "df_new.plot(x = 'n_guns_involved', y='#_injured',style='o')\n",
    "plt.title('Number of Injured by Number of Guns involved')  \n",
    "plt.xlabel('n_guns_involved')  \n",
    "plt.ylabel('#_injured')  \n",
    "plt.show()"
   ]
  },
  {
   "cell_type": "markdown",
   "id": "d7de1ac8",
   "metadata": {},
   "source": [
    "### 05. State your Hypothesis "
   ]
  },
  {
   "cell_type": "markdown",
   "id": "4e921e29",
   "metadata": {},
   "source": [
    "#### The fewer guns that are involved in the incident, the more people that will be injured."
   ]
  },
  {
   "cell_type": "markdown",
   "id": "15b0a717",
   "metadata": {},
   "source": [
    "### 06. Reshape the variables into NumPy arrays, with X being the independent variable and y being the dependent variable"
   ]
  },
  {
   "cell_type": "code",
   "execution_count": 17,
   "id": "31bfbefa",
   "metadata": {},
   "outputs": [],
   "source": [
    "# Reshape the variables into NumPy arrays and put them into separate objects.\n",
    "\n",
    "X = df_new['#_injured'].values.reshape(-1,1)\n",
    "y = df_new['n_guns_involved'].values.reshape(-1,1)"
   ]
  },
  {
   "cell_type": "code",
   "execution_count": 18,
   "id": "f5cee9e7",
   "metadata": {},
   "outputs": [
    {
     "data": {
      "text/plain": [
       "array([[4],\n",
       "       [3],\n",
       "       [3],\n",
       "       ...,\n",
       "       [1],\n",
       "       [0],\n",
       "       [0]], dtype=int64)"
      ]
     },
     "execution_count": 18,
     "metadata": {},
     "output_type": "execute_result"
    }
   ],
   "source": [
    "X"
   ]
  },
  {
   "cell_type": "code",
   "execution_count": 19,
   "id": "f257e86f",
   "metadata": {},
   "outputs": [
    {
     "data": {
      "text/plain": [
       "array([[1.],\n",
       "       [1.],\n",
       "       [2.],\n",
       "       ...,\n",
       "       [1.],\n",
       "       [1.],\n",
       "       [2.]])"
      ]
     },
     "execution_count": 19,
     "metadata": {},
     "output_type": "execute_result"
    }
   ],
   "source": [
    "y"
   ]
  },
  {
   "cell_type": "markdown",
   "id": "f00d9fe4",
   "metadata": {},
   "source": [
    "### 07. Split the data into two sets: a training set and a test set"
   ]
  },
  {
   "cell_type": "code",
   "execution_count": 20,
   "id": "8e404aaf",
   "metadata": {},
   "outputs": [],
   "source": [
    "# 0.3 specifies that 30% of the data will be test data\n",
    "\n",
    "X_train, X_test, y_train, y_test = train_test_split(X, y, test_size=0.3, random_state=0) "
   ]
  },
  {
   "cell_type": "markdown",
   "id": "031822b5",
   "metadata": {},
   "source": [
    "### 08. Run a linear regression on the data"
   ]
  },
  {
   "cell_type": "markdown",
   "id": "185ed1dc",
   "metadata": {},
   "source": [
    "#### First, fit model on the training set"
   ]
  },
  {
   "cell_type": "code",
   "execution_count": 21,
   "id": "55917e21",
   "metadata": {},
   "outputs": [],
   "source": [
    "# Create regression\n",
    "\n",
    "regression = LinearRegression()"
   ]
  },
  {
   "cell_type": "code",
   "execution_count": 22,
   "id": "05d4e423",
   "metadata": {},
   "outputs": [
    {
     "data": {
      "text/plain": [
       "LinearRegression()"
      ]
     },
     "execution_count": 22,
     "metadata": {},
     "output_type": "execute_result"
    }
   ],
   "source": [
    "# Put regression on training set \n",
    "\n",
    "regression.fit(X_train, y_train)"
   ]
  },
  {
   "cell_type": "markdown",
   "id": "ffe80f1e",
   "metadata": {},
   "source": [
    "#### Then, create a prediction for y on the test set"
   ]
  },
  {
   "cell_type": "code",
   "execution_count": 23,
   "id": "1320a29f",
   "metadata": {},
   "outputs": [],
   "source": [
    "y_predicted = regression.predict(X_test)"
   ]
  },
  {
   "cell_type": "code",
   "execution_count": 24,
   "id": "9c48c500",
   "metadata": {},
   "outputs": [
    {
     "data": {
      "text/plain": [
       "array([[1.11031245],\n",
       "       [1.11031245],\n",
       "       [1.06513563],\n",
       "       ...,\n",
       "       [1.11031245],\n",
       "       [1.11031245],\n",
       "       [1.11031245]])"
      ]
     },
     "execution_count": 24,
     "metadata": {},
     "output_type": "execute_result"
    }
   ],
   "source": [
    "y_predicted"
   ]
  },
  {
   "cell_type": "code",
   "execution_count": 25,
   "id": "eceb9a64",
   "metadata": {},
   "outputs": [
    {
     "data": {
      "image/png": "[encoded data removed]",
      "text/plain": [
       "<Figure size 640x480 with 1 Axes>"
      ]
     },
     "metadata": {},
     "output_type": "display_data"
    }
   ],
   "source": [
    "plot_test = plt\n",
    "plot_test.scatter(X_test, y_test, color='gray', s = 15)\n",
    "plot_test.plot(X_test, y_predicted, color='red', linewidth =3)\n",
    "plot_test.title('Number injured vs Number of Guns Involved (Test set)')\n",
    "plot_test.xlabel('#_injured')\n",
    "plot_test.ylabel('n_guns_involved')\n",
    "plot_test.show()"
   ]
  },
  {
   "cell_type": "markdown",
   "id": "7c064ce8",
   "metadata": {},
   "source": [
    "### 10. Write your own interpretation of how well the line appears to fit the data in a markdown cell."
   ]
  },
  {
   "cell_type": "markdown",
   "id": "f7eeaef7",
   "metadata": {},
   "source": [
    "#### The regression line doesn't fit the data on the scatterplot at all. Since the line is almost flat, this indicates that there is little to no relationship between the two variables."
   ]
  },
  {
   "cell_type": "markdown",
   "id": "d926fab4",
   "metadata": {},
   "source": [
    "### 11. Check the model performance statistics—MSE and R2 score"
   ]
  },
  {
   "cell_type": "code",
   "execution_count": 26,
   "id": "1c74acb3",
   "metadata": {},
   "outputs": [],
   "source": [
    "rmse = mean_squared_error(y_test, y_predicted) \n",
    "r2 = r2_score(y_test, y_predicted) "
   ]
  },
  {
   "cell_type": "code",
   "execution_count": 27,
   "id": "6e00dea4",
   "metadata": {},
   "outputs": [
    {
     "name": "stdout",
     "output_type": "stream",
     "text": [
      "Slope: [[-0.04517683]]\n",
      "Mean squared error:  0.27424072420575657\n",
      "R2 score:  0.003984309648879081\n"
     ]
    }
   ],
   "source": [
    "print('Slope:' ,regression.coef_)\n",
    "print('Mean squared error: ', rmse)\n",
    "print('R2 score: ', r2)"
   ]
  },
  {
   "cell_type": "markdown",
   "id": "fb80aff4",
   "metadata": {},
   "source": [
    "### 12. Compare the predicted y values with the actual y values in a dataframe"
   ]
  },
  {
   "cell_type": "code",
   "execution_count": 28,
   "id": "45025122",
   "metadata": {},
   "outputs": [
    {
     "data": {
      "text/html": [
       "<div>\n",
       "<style scoped>\n",
       "    .dataframe tbody tr th:only-of-type {\n",
       "        vertical-align: middle;\n",
       "    }\n",
       "\n",
       "    .dataframe tbody tr th {\n",
       "        vertical-align: top;\n",
       "    }\n",
       "\n",
       "    .dataframe thead th {\n",
       "        text-align: right;\n",
       "    }\n",
       "</style>\n",
       "<table border=\"1\" class=\"dataframe\">\n",
       "  <thead>\n",
       "    <tr style=\"text-align: right;\">\n",
       "      <th></th>\n",
       "      <th>Actual</th>\n",
       "      <th>Predicted</th>\n",
       "    </tr>\n",
       "  </thead>\n",
       "  <tbody>\n",
       "    <tr>\n",
       "      <th>0</th>\n",
       "      <td>1.0</td>\n",
       "      <td>1.110312</td>\n",
       "    </tr>\n",
       "    <tr>\n",
       "      <th>1</th>\n",
       "      <td>1.0</td>\n",
       "      <td>1.110312</td>\n",
       "    </tr>\n",
       "    <tr>\n",
       "      <th>2</th>\n",
       "      <td>1.0</td>\n",
       "      <td>1.065136</td>\n",
       "    </tr>\n",
       "    <tr>\n",
       "      <th>3</th>\n",
       "      <td>1.0</td>\n",
       "      <td>1.110312</td>\n",
       "    </tr>\n",
       "    <tr>\n",
       "      <th>4</th>\n",
       "      <td>1.0</td>\n",
       "      <td>1.110312</td>\n",
       "    </tr>\n",
       "    <tr>\n",
       "      <th>5</th>\n",
       "      <td>1.0</td>\n",
       "      <td>1.065136</td>\n",
       "    </tr>\n",
       "    <tr>\n",
       "      <th>6</th>\n",
       "      <td>1.0</td>\n",
       "      <td>1.019959</td>\n",
       "    </tr>\n",
       "    <tr>\n",
       "      <th>7</th>\n",
       "      <td>1.0</td>\n",
       "      <td>1.019959</td>\n",
       "    </tr>\n",
       "    <tr>\n",
       "      <th>8</th>\n",
       "      <td>1.0</td>\n",
       "      <td>1.110312</td>\n",
       "    </tr>\n",
       "    <tr>\n",
       "      <th>9</th>\n",
       "      <td>1.0</td>\n",
       "      <td>1.065136</td>\n",
       "    </tr>\n",
       "    <tr>\n",
       "      <th>10</th>\n",
       "      <td>1.0</td>\n",
       "      <td>1.110312</td>\n",
       "    </tr>\n",
       "    <tr>\n",
       "      <th>11</th>\n",
       "      <td>1.0</td>\n",
       "      <td>1.065136</td>\n",
       "    </tr>\n",
       "    <tr>\n",
       "      <th>12</th>\n",
       "      <td>1.0</td>\n",
       "      <td>1.110312</td>\n",
       "    </tr>\n",
       "    <tr>\n",
       "      <th>13</th>\n",
       "      <td>1.0</td>\n",
       "      <td>1.065136</td>\n",
       "    </tr>\n",
       "    <tr>\n",
       "      <th>14</th>\n",
       "      <td>1.0</td>\n",
       "      <td>1.065136</td>\n",
       "    </tr>\n",
       "    <tr>\n",
       "      <th>15</th>\n",
       "      <td>1.0</td>\n",
       "      <td>1.110312</td>\n",
       "    </tr>\n",
       "    <tr>\n",
       "      <th>16</th>\n",
       "      <td>1.0</td>\n",
       "      <td>1.065136</td>\n",
       "    </tr>\n",
       "    <tr>\n",
       "      <th>17</th>\n",
       "      <td>3.0</td>\n",
       "      <td>1.110312</td>\n",
       "    </tr>\n",
       "    <tr>\n",
       "      <th>18</th>\n",
       "      <td>1.0</td>\n",
       "      <td>1.065136</td>\n",
       "    </tr>\n",
       "    <tr>\n",
       "      <th>19</th>\n",
       "      <td>1.0</td>\n",
       "      <td>1.065136</td>\n",
       "    </tr>\n",
       "    <tr>\n",
       "      <th>20</th>\n",
       "      <td>1.0</td>\n",
       "      <td>1.065136</td>\n",
       "    </tr>\n",
       "    <tr>\n",
       "      <th>21</th>\n",
       "      <td>1.0</td>\n",
       "      <td>1.065136</td>\n",
       "    </tr>\n",
       "    <tr>\n",
       "      <th>22</th>\n",
       "      <td>1.0</td>\n",
       "      <td>1.065136</td>\n",
       "    </tr>\n",
       "    <tr>\n",
       "      <th>23</th>\n",
       "      <td>1.0</td>\n",
       "      <td>1.110312</td>\n",
       "    </tr>\n",
       "    <tr>\n",
       "      <th>24</th>\n",
       "      <td>1.0</td>\n",
       "      <td>1.110312</td>\n",
       "    </tr>\n",
       "    <tr>\n",
       "      <th>25</th>\n",
       "      <td>1.0</td>\n",
       "      <td>1.065136</td>\n",
       "    </tr>\n",
       "    <tr>\n",
       "      <th>26</th>\n",
       "      <td>1.0</td>\n",
       "      <td>1.065136</td>\n",
       "    </tr>\n",
       "    <tr>\n",
       "      <th>27</th>\n",
       "      <td>1.0</td>\n",
       "      <td>1.065136</td>\n",
       "    </tr>\n",
       "    <tr>\n",
       "      <th>28</th>\n",
       "      <td>1.0</td>\n",
       "      <td>1.065136</td>\n",
       "    </tr>\n",
       "    <tr>\n",
       "      <th>29</th>\n",
       "      <td>1.0</td>\n",
       "      <td>1.110312</td>\n",
       "    </tr>\n",
       "  </tbody>\n",
       "</table>\n",
       "</div>"
      ],
      "text/plain": [
       "    Actual  Predicted\n",
       "0      1.0   1.110312\n",
       "1      1.0   1.110312\n",
       "2      1.0   1.065136\n",
       "3      1.0   1.110312\n",
       "4      1.0   1.110312\n",
       "5      1.0   1.065136\n",
       "6      1.0   1.019959\n",
       "7      1.0   1.019959\n",
       "8      1.0   1.110312\n",
       "9      1.0   1.065136\n",
       "10     1.0   1.110312\n",
       "11     1.0   1.065136\n",
       "12     1.0   1.110312\n",
       "13     1.0   1.065136\n",
       "14     1.0   1.065136\n",
       "15     1.0   1.110312\n",
       "16     1.0   1.065136\n",
       "17     3.0   1.110312\n",
       "18     1.0   1.065136\n",
       "19     1.0   1.065136\n",
       "20     1.0   1.065136\n",
       "21     1.0   1.065136\n",
       "22     1.0   1.065136\n",
       "23     1.0   1.110312\n",
       "24     1.0   1.110312\n",
       "25     1.0   1.065136\n",
       "26     1.0   1.065136\n",
       "27     1.0   1.065136\n",
       "28     1.0   1.065136\n",
       "29     1.0   1.110312"
      ]
     },
     "execution_count": 28,
     "metadata": {},
     "output_type": "execute_result"
    }
   ],
   "source": [
    "data = pd.DataFrame({'Actual': y_test.flatten(), 'Predicted': y_predicted.flatten()})\n",
    "data.head(30)"
   ]
  },
  {
   "cell_type": "markdown",
   "id": "cbe759d2",
   "metadata": {},
   "source": [
    "### 13. Include your thoughts on how well the model performed on the test set in a markdown cell."
   ]
  },
  {
   "cell_type": "markdown",
   "id": "8a65e6e4",
   "metadata": {},
   "source": [
    "#### The model theoretically performed alright, considering how small the mean squared error is. However, the R2 score was very close to 0, indicating that it is a poor fit. This could be because the overall number of incidents had 1-2 guns involved, so the number of guns is a poor predictor of how many people will be injured in an incident. "
   ]
  },
  {
   "cell_type": "code",
   "execution_count": 30,
   "id": "bb4036ac",
   "metadata": {},
   "outputs": [],
   "source": [
    "# Export dataframe \n",
    "\n",
    "df_new.to_csv(os.path.join(path,'02 Data', 'Raw Data','regression_data.csv'))"
   ]
  },
  {
   "cell_type": "code",
   "execution_count": null,
   "id": "377a0a8b",
   "metadata": {},
   "outputs": [],
   "source": []
  }
 ],
 "metadata": {
  "kernelspec": {
   "display_name": "Python 3 (ipykernel)",
   "language": "python",
   "name": "python3"
  },
  "language_info": {
   "codemirror_mode": {
    "name": "ipython",
    "version": 3
   },
   "file_extension": ".py",
   "mimetype": "text/x-python",
   "name": "python",
   "nbconvert_exporter": "python",
   "pygments_lexer": "ipython3",
   "version": "3.9.13"
  }
 },
 "nbformat": 4,
 "nbformat_minor": 5
}
