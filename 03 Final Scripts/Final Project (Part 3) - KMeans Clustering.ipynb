{
 "cells": [
  {
   "cell_type": "code",
   "execution_count": 1,
   "id": "d2764589",
   "metadata": {},
   "outputs": [],
   "source": [
    "# Import libraries \n",
    "\n",
    "import pandas as pd \n",
    "import numpy as np \n",
    "import os \n",
    "import seaborn as sns \n",
    "import matplotlib.pyplot as plt \n",
    "import matplotlib \n",
    "import pylab as pl \n",
    "import sklearn \n",
    "from sklearn.cluster import KMeans"
   ]
  },
  {
   "cell_type": "code",
   "execution_count": 2,
   "id": "d833b525",
   "metadata": {},
   "outputs": [],
   "source": [
    "# Create path \n",
    "\n",
    "path = os.getcwd()[:-10]"
   ]
  },
  {
   "cell_type": "code",
   "execution_count": 3,
   "id": "f9b04703",
   "metadata": {},
   "outputs": [
    {
     "data": {
      "text/plain": [
       "'C:\\\\Users\\\\Megan\\\\Documents\\\\Analytics\\\\Gun Violence Achievement 6\\\\'"
      ]
     },
     "execution_count": 3,
     "metadata": {},
     "output_type": "execute_result"
    }
   ],
   "source": [
    "path"
   ]
  },
  {
   "cell_type": "code",
   "execution_count": 5,
   "id": "5dca04de",
   "metadata": {},
   "outputs": [],
   "source": [
    "# Import dataframe \n",
    "\n",
    "df = pd.read_csv(os.path.join(path, '02 Data','Prepared Data','final_gun_data.csv'), index_col=False)"
   ]
  },
  {
   "cell_type": "code",
   "execution_count": 6,
   "id": "ea64e3bb",
   "metadata": {},
   "outputs": [
    {
     "data": {
      "text/html": [
       "<div>\n",
       "<style scoped>\n",
       "    .dataframe tbody tr th:only-of-type {\n",
       "        vertical-align: middle;\n",
       "    }\n",
       "\n",
       "    .dataframe tbody tr th {\n",
       "        vertical-align: top;\n",
       "    }\n",
       "\n",
       "    .dataframe thead th {\n",
       "        text-align: right;\n",
       "    }\n",
       "</style>\n",
       "<table border=\"1\" class=\"dataframe\">\n",
       "  <thead>\n",
       "    <tr style=\"text-align: right;\">\n",
       "      <th></th>\n",
       "      <th>Unnamed: 0</th>\n",
       "      <th>State</th>\n",
       "      <th>#_killed</th>\n",
       "      <th>#_injured</th>\n",
       "      <th>latitude</th>\n",
       "      <th>longitude</th>\n",
       "      <th>n_guns_involved</th>\n",
       "      <th>Geographic_Region</th>\n",
       "      <th>Year</th>\n",
       "      <th>Month</th>\n",
       "      <th>Day</th>\n",
       "      <th>State_Year</th>\n",
       "      <th>State Population</th>\n",
       "      <th>Population_millions</th>\n",
       "      <th>Total Victims</th>\n",
       "      <th>Victims_per_100000</th>\n",
       "      <th>Population Flag</th>\n",
       "      <th>Politics</th>\n",
       "      <th>Season</th>\n",
       "    </tr>\n",
       "  </thead>\n",
       "  <tbody>\n",
       "    <tr>\n",
       "      <th>0</th>\n",
       "      <td>0</td>\n",
       "      <td>District of Columbia</td>\n",
       "      <td>0.0</td>\n",
       "      <td>5.0</td>\n",
       "      <td>38.8978</td>\n",
       "      <td>-76.9717</td>\n",
       "      <td>1.0</td>\n",
       "      <td>East</td>\n",
       "      <td>2013</td>\n",
       "      <td>1.0</td>\n",
       "      <td>26.0</td>\n",
       "      <td>District of Columbia, 2013</td>\n",
       "      <td>617513</td>\n",
       "      <td>0.617513</td>\n",
       "      <td>5.0</td>\n",
       "      <td>53.2572</td>\n",
       "      <td>Low Populated State</td>\n",
       "      <td>Liberal State</td>\n",
       "      <td>Winter</td>\n",
       "    </tr>\n",
       "    <tr>\n",
       "      <th>1</th>\n",
       "      <td>1</td>\n",
       "      <td>District of Columbia</td>\n",
       "      <td>0.0</td>\n",
       "      <td>13.0</td>\n",
       "      <td>38.9062</td>\n",
       "      <td>-77.0099</td>\n",
       "      <td>4.0</td>\n",
       "      <td>East</td>\n",
       "      <td>2013</td>\n",
       "      <td>3.0</td>\n",
       "      <td>11.0</td>\n",
       "      <td>District of Columbia, 2013</td>\n",
       "      <td>617513</td>\n",
       "      <td>0.617513</td>\n",
       "      <td>13.0</td>\n",
       "      <td>53.2572</td>\n",
       "      <td>Low Populated State</td>\n",
       "      <td>Liberal State</td>\n",
       "      <td>Spring</td>\n",
       "    </tr>\n",
       "    <tr>\n",
       "      <th>2</th>\n",
       "      <td>2</td>\n",
       "      <td>District of Columbia</td>\n",
       "      <td>0.0</td>\n",
       "      <td>4.0</td>\n",
       "      <td>38.8583</td>\n",
       "      <td>-76.9883</td>\n",
       "      <td>1.0</td>\n",
       "      <td>East</td>\n",
       "      <td>2013</td>\n",
       "      <td>7.0</td>\n",
       "      <td>13.0</td>\n",
       "      <td>District of Columbia, 2013</td>\n",
       "      <td>617513</td>\n",
       "      <td>0.617513</td>\n",
       "      <td>4.0</td>\n",
       "      <td>53.2572</td>\n",
       "      <td>Low Populated State</td>\n",
       "      <td>Liberal State</td>\n",
       "      <td>Summer</td>\n",
       "    </tr>\n",
       "    <tr>\n",
       "      <th>3</th>\n",
       "      <td>3</td>\n",
       "      <td>District of Columbia</td>\n",
       "      <td>1.0</td>\n",
       "      <td>3.0</td>\n",
       "      <td>38.9047</td>\n",
       "      <td>-77.0122</td>\n",
       "      <td>1.0</td>\n",
       "      <td>East</td>\n",
       "      <td>2013</td>\n",
       "      <td>9.0</td>\n",
       "      <td>12.0</td>\n",
       "      <td>District of Columbia, 2013</td>\n",
       "      <td>617513</td>\n",
       "      <td>0.617513</td>\n",
       "      <td>4.0</td>\n",
       "      <td>53.2572</td>\n",
       "      <td>Low Populated State</td>\n",
       "      <td>Liberal State</td>\n",
       "      <td>Autumn</td>\n",
       "    </tr>\n",
       "    <tr>\n",
       "      <th>4</th>\n",
       "      <td>4</td>\n",
       "      <td>District of Columbia</td>\n",
       "      <td>11.0</td>\n",
       "      <td>3.0</td>\n",
       "      <td>38.8730</td>\n",
       "      <td>-76.9977</td>\n",
       "      <td>2.0</td>\n",
       "      <td>East</td>\n",
       "      <td>2013</td>\n",
       "      <td>9.0</td>\n",
       "      <td>16.0</td>\n",
       "      <td>District of Columbia, 2013</td>\n",
       "      <td>617513</td>\n",
       "      <td>0.617513</td>\n",
       "      <td>14.0</td>\n",
       "      <td>53.2572</td>\n",
       "      <td>Low Populated State</td>\n",
       "      <td>Liberal State</td>\n",
       "      <td>Autumn</td>\n",
       "    </tr>\n",
       "  </tbody>\n",
       "</table>\n",
       "</div>"
      ],
      "text/plain": [
       "   Unnamed: 0                 State  #_killed  #_injured  latitude  longitude  \\\n",
       "0           0  District of Columbia       0.0        5.0   38.8978   -76.9717   \n",
       "1           1  District of Columbia       0.0       13.0   38.9062   -77.0099   \n",
       "2           2  District of Columbia       0.0        4.0   38.8583   -76.9883   \n",
       "3           3  District of Columbia       1.0        3.0   38.9047   -77.0122   \n",
       "4           4  District of Columbia      11.0        3.0   38.8730   -76.9977   \n",
       "\n",
       "   n_guns_involved Geographic_Region  Year  Month   Day  \\\n",
       "0              1.0              East  2013    1.0  26.0   \n",
       "1              4.0              East  2013    3.0  11.0   \n",
       "2              1.0              East  2013    7.0  13.0   \n",
       "3              1.0              East  2013    9.0  12.0   \n",
       "4              2.0              East  2013    9.0  16.0   \n",
       "\n",
       "                   State_Year  State Population  Population_millions  \\\n",
       "0  District of Columbia, 2013            617513             0.617513   \n",
       "1  District of Columbia, 2013            617513             0.617513   \n",
       "2  District of Columbia, 2013            617513             0.617513   \n",
       "3  District of Columbia, 2013            617513             0.617513   \n",
       "4  District of Columbia, 2013            617513             0.617513   \n",
       "\n",
       "   Total Victims  Victims_per_100000      Population Flag       Politics  \\\n",
       "0            5.0             53.2572  Low Populated State  Liberal State   \n",
       "1           13.0             53.2572  Low Populated State  Liberal State   \n",
       "2            4.0             53.2572  Low Populated State  Liberal State   \n",
       "3            4.0             53.2572  Low Populated State  Liberal State   \n",
       "4           14.0             53.2572  Low Populated State  Liberal State   \n",
       "\n",
       "   Season  \n",
       "0  Winter  \n",
       "1  Spring  \n",
       "2  Summer  \n",
       "3  Autumn  \n",
       "4  Autumn  "
      ]
     },
     "execution_count": 6,
     "metadata": {},
     "output_type": "execute_result"
    }
   ],
   "source": [
    "df.head()"
   ]
  },
  {
   "cell_type": "code",
   "execution_count": 7,
   "id": "f947674a",
   "metadata": {},
   "outputs": [],
   "source": [
    "# Delete unnamed column \n",
    "\n",
    "df = df.drop(columns = ['Unnamed: 0'])"
   ]
  },
  {
   "cell_type": "code",
   "execution_count": 8,
   "id": "8c99f91e",
   "metadata": {},
   "outputs": [
    {
     "data": {
      "text/html": [
       "<div>\n",
       "<style scoped>\n",
       "    .dataframe tbody tr th:only-of-type {\n",
       "        vertical-align: middle;\n",
       "    }\n",
       "\n",
       "    .dataframe tbody tr th {\n",
       "        vertical-align: top;\n",
       "    }\n",
       "\n",
       "    .dataframe thead th {\n",
       "        text-align: right;\n",
       "    }\n",
       "</style>\n",
       "<table border=\"1\" class=\"dataframe\">\n",
       "  <thead>\n",
       "    <tr style=\"text-align: right;\">\n",
       "      <th></th>\n",
       "      <th>State</th>\n",
       "      <th>#_killed</th>\n",
       "      <th>#_injured</th>\n",
       "      <th>latitude</th>\n",
       "      <th>longitude</th>\n",
       "      <th>n_guns_involved</th>\n",
       "      <th>Geographic_Region</th>\n",
       "      <th>Year</th>\n",
       "      <th>Month</th>\n",
       "      <th>Day</th>\n",
       "      <th>State_Year</th>\n",
       "      <th>State Population</th>\n",
       "      <th>Population_millions</th>\n",
       "      <th>Total Victims</th>\n",
       "      <th>Victims_per_100000</th>\n",
       "      <th>Population Flag</th>\n",
       "      <th>Politics</th>\n",
       "      <th>Season</th>\n",
       "    </tr>\n",
       "  </thead>\n",
       "  <tbody>\n",
       "    <tr>\n",
       "      <th>0</th>\n",
       "      <td>District of Columbia</td>\n",
       "      <td>0.0</td>\n",
       "      <td>5.0</td>\n",
       "      <td>38.8978</td>\n",
       "      <td>-76.9717</td>\n",
       "      <td>1.0</td>\n",
       "      <td>East</td>\n",
       "      <td>2013</td>\n",
       "      <td>1.0</td>\n",
       "      <td>26.0</td>\n",
       "      <td>District of Columbia, 2013</td>\n",
       "      <td>617513</td>\n",
       "      <td>0.617513</td>\n",
       "      <td>5.0</td>\n",
       "      <td>53.2572</td>\n",
       "      <td>Low Populated State</td>\n",
       "      <td>Liberal State</td>\n",
       "      <td>Winter</td>\n",
       "    </tr>\n",
       "    <tr>\n",
       "      <th>1</th>\n",
       "      <td>District of Columbia</td>\n",
       "      <td>0.0</td>\n",
       "      <td>13.0</td>\n",
       "      <td>38.9062</td>\n",
       "      <td>-77.0099</td>\n",
       "      <td>4.0</td>\n",
       "      <td>East</td>\n",
       "      <td>2013</td>\n",
       "      <td>3.0</td>\n",
       "      <td>11.0</td>\n",
       "      <td>District of Columbia, 2013</td>\n",
       "      <td>617513</td>\n",
       "      <td>0.617513</td>\n",
       "      <td>13.0</td>\n",
       "      <td>53.2572</td>\n",
       "      <td>Low Populated State</td>\n",
       "      <td>Liberal State</td>\n",
       "      <td>Spring</td>\n",
       "    </tr>\n",
       "    <tr>\n",
       "      <th>2</th>\n",
       "      <td>District of Columbia</td>\n",
       "      <td>0.0</td>\n",
       "      <td>4.0</td>\n",
       "      <td>38.8583</td>\n",
       "      <td>-76.9883</td>\n",
       "      <td>1.0</td>\n",
       "      <td>East</td>\n",
       "      <td>2013</td>\n",
       "      <td>7.0</td>\n",
       "      <td>13.0</td>\n",
       "      <td>District of Columbia, 2013</td>\n",
       "      <td>617513</td>\n",
       "      <td>0.617513</td>\n",
       "      <td>4.0</td>\n",
       "      <td>53.2572</td>\n",
       "      <td>Low Populated State</td>\n",
       "      <td>Liberal State</td>\n",
       "      <td>Summer</td>\n",
       "    </tr>\n",
       "    <tr>\n",
       "      <th>3</th>\n",
       "      <td>District of Columbia</td>\n",
       "      <td>1.0</td>\n",
       "      <td>3.0</td>\n",
       "      <td>38.9047</td>\n",
       "      <td>-77.0122</td>\n",
       "      <td>1.0</td>\n",
       "      <td>East</td>\n",
       "      <td>2013</td>\n",
       "      <td>9.0</td>\n",
       "      <td>12.0</td>\n",
       "      <td>District of Columbia, 2013</td>\n",
       "      <td>617513</td>\n",
       "      <td>0.617513</td>\n",
       "      <td>4.0</td>\n",
       "      <td>53.2572</td>\n",
       "      <td>Low Populated State</td>\n",
       "      <td>Liberal State</td>\n",
       "      <td>Autumn</td>\n",
       "    </tr>\n",
       "    <tr>\n",
       "      <th>4</th>\n",
       "      <td>District of Columbia</td>\n",
       "      <td>11.0</td>\n",
       "      <td>3.0</td>\n",
       "      <td>38.8730</td>\n",
       "      <td>-76.9977</td>\n",
       "      <td>2.0</td>\n",
       "      <td>East</td>\n",
       "      <td>2013</td>\n",
       "      <td>9.0</td>\n",
       "      <td>16.0</td>\n",
       "      <td>District of Columbia, 2013</td>\n",
       "      <td>617513</td>\n",
       "      <td>0.617513</td>\n",
       "      <td>14.0</td>\n",
       "      <td>53.2572</td>\n",
       "      <td>Low Populated State</td>\n",
       "      <td>Liberal State</td>\n",
       "      <td>Autumn</td>\n",
       "    </tr>\n",
       "  </tbody>\n",
       "</table>\n",
       "</div>"
      ],
      "text/plain": [
       "                  State  #_killed  #_injured  latitude  longitude  \\\n",
       "0  District of Columbia       0.0        5.0   38.8978   -76.9717   \n",
       "1  District of Columbia       0.0       13.0   38.9062   -77.0099   \n",
       "2  District of Columbia       0.0        4.0   38.8583   -76.9883   \n",
       "3  District of Columbia       1.0        3.0   38.9047   -77.0122   \n",
       "4  District of Columbia      11.0        3.0   38.8730   -76.9977   \n",
       "\n",
       "   n_guns_involved Geographic_Region  Year  Month   Day  \\\n",
       "0              1.0              East  2013    1.0  26.0   \n",
       "1              4.0              East  2013    3.0  11.0   \n",
       "2              1.0              East  2013    7.0  13.0   \n",
       "3              1.0              East  2013    9.0  12.0   \n",
       "4              2.0              East  2013    9.0  16.0   \n",
       "\n",
       "                   State_Year  State Population  Population_millions  \\\n",
       "0  District of Columbia, 2013            617513             0.617513   \n",
       "1  District of Columbia, 2013            617513             0.617513   \n",
       "2  District of Columbia, 2013            617513             0.617513   \n",
       "3  District of Columbia, 2013            617513             0.617513   \n",
       "4  District of Columbia, 2013            617513             0.617513   \n",
       "\n",
       "   Total Victims  Victims_per_100000      Population Flag       Politics  \\\n",
       "0            5.0             53.2572  Low Populated State  Liberal State   \n",
       "1           13.0             53.2572  Low Populated State  Liberal State   \n",
       "2            4.0             53.2572  Low Populated State  Liberal State   \n",
       "3            4.0             53.2572  Low Populated State  Liberal State   \n",
       "4           14.0             53.2572  Low Populated State  Liberal State   \n",
       "\n",
       "   Season  \n",
       "0  Winter  \n",
       "1  Spring  \n",
       "2  Summer  \n",
       "3  Autumn  \n",
       "4  Autumn  "
      ]
     },
     "execution_count": 8,
     "metadata": {},
     "output_type": "execute_result"
    }
   ],
   "source": [
    "df.head()"
   ]
  },
  {
   "cell_type": "code",
   "execution_count": 21,
   "id": "ad3dc0de",
   "metadata": {},
   "outputs": [],
   "source": [
    "# Create subset for KMeans clustering \n",
    "\n",
    "new = df[['Population_millions','Victims_per_100000']]"
   ]
  },
  {
   "cell_type": "code",
   "execution_count": 22,
   "id": "14e1aee6",
   "metadata": {},
   "outputs": [],
   "source": [
    "# Use elbow technique to find number of clusters \n",
    "\n",
    "num_cl = range(1, 10) \n",
    "kmeans = [KMeans(n_clusters=i) for i in num_cl] "
   ]
  },
  {
   "cell_type": "code",
   "execution_count": 23,
   "id": "2a6d539c",
   "metadata": {},
   "outputs": [
    {
     "data": {
      "text/plain": [
       "[-33843335.64452489,\n",
       " -16598219.175551763,\n",
       " -9971179.354607357,\n",
       " -7056974.522062874,\n",
       " -4195065.474299738,\n",
       " -2995139.679162205,\n",
       " -1930913.4680887007,\n",
       " -1548192.6490888016,\n",
       " -1197803.3648347338]"
      ]
     },
     "execution_count": 23,
     "metadata": {},
     "output_type": "execute_result"
    }
   ],
   "source": [
    "score = [kmeans[i].fit(new).score(new) for i in range(len(kmeans))] # Creates a score that represents \n",
    "# a rate of variation for the given cluster option.\n",
    "\n",
    "score"
   ]
  },
  {
   "cell_type": "code",
   "execution_count": 24,
   "id": "aac4b781",
   "metadata": {},
   "outputs": [
    {
     "data": {
      "image/png": "[encoded data removed]",
      "text/plain": [
       "<Figure size 640x480 with 1 Axes>"
      ]
     },
     "metadata": {},
     "output_type": "display_data"
    }
   ],
   "source": [
    "# Plot the elbow curve using PyLab.\n",
    "\n",
    "pl.plot(num_cl,score)\n",
    "pl.xlabel('Number of Clusters')\n",
    "pl.ylabel('Score')\n",
    "pl.title('Elbow Curve')\n",
    "pl.show()"
   ]
  },
  {
   "cell_type": "markdown",
   "id": "20962a7b",
   "metadata": {},
   "source": [
    "#### Best to use 4 clusters for analysis "
   ]
  },
  {
   "cell_type": "code",
   "execution_count": 28,
   "id": "56163369",
   "metadata": {},
   "outputs": [
    {
     "data": {
      "text/plain": [
       "KMeans(n_clusters=4)"
      ]
     },
     "execution_count": 28,
     "metadata": {},
     "output_type": "execute_result"
    }
   ],
   "source": [
    "kmeans = KMeans(n_clusters = 4)\n",
    "kmeans.fit(new)"
   ]
  },
  {
   "cell_type": "code",
   "execution_count": 29,
   "id": "d409b15f",
   "metadata": {},
   "outputs": [
    {
     "name": "stderr",
     "output_type": "stream",
     "text": [
      "C:\\Users\\Megan\\AppData\\Local\\Temp\\ipykernel_8604\\771931456.py:1: SettingWithCopyWarning: \n",
      "A value is trying to be set on a copy of a slice from a DataFrame.\n",
      "Try using .loc[row_indexer,col_indexer] = value instead\n",
      "\n",
      "See the caveats in the documentation: https://pandas.pydata.org/pandas-docs/stable/user_guide/indexing.html#returning-a-view-versus-a-copy\n",
      "  new['clusters'] = kmeans.fit_predict(new)\n"
     ]
    }
   ],
   "source": [
    "new['clusters'] = kmeans.fit_predict(new)"
   ]
  },
  {
   "cell_type": "code",
   "execution_count": 30,
   "id": "5da480c6",
   "metadata": {},
   "outputs": [
    {
     "data": {
      "text/plain": [
       "0    112646\n",
       "2     55769\n",
       "3     35340\n",
       "1     14906\n",
       "Name: clusters, dtype: int64"
      ]
     },
     "execution_count": 30,
     "metadata": {},
     "output_type": "execute_result"
    }
   ],
   "source": [
    "new['clusters'].value_counts()"
   ]
  },
  {
   "cell_type": "code",
   "execution_count": 34,
   "id": "9805b633",
   "metadata": {},
   "outputs": [
    {
     "data": {
      "image/png": "[encoded data removed]",
      "text/plain": [
       "<Figure size 800x600 with 1 Axes>"
      ]
     },
     "metadata": {},
     "output_type": "display_data"
    }
   ],
   "source": [
    "# Plot the clusters for the \"Population_millions\" and \"Victims_per_100000\" variables.\n",
    "\n",
    "plt.figure(figsize=(8,6))\n",
    "ax = sns.scatterplot(x=new['Victims_per_100000'], y=new['Population_millions'], hue=kmeans.labels_, s=100) \n",
    "\n",
    "ax.grid(False) # This removes the grid from the background.\n",
    "plt.xlabel('Victims_per_100000') # Label x-axis.\n",
    "plt.ylabel('Population_millions') # Label y-axis.\n",
    "plt.show()"
   ]
  },
  {
   "cell_type": "code",
   "execution_count": 35,
   "id": "317590f2",
   "metadata": {},
   "outputs": [
    {
     "name": "stderr",
     "output_type": "stream",
     "text": [
      "C:\\Users\\Megan\\AppData\\Local\\Temp\\ipykernel_8604\\224314360.py:1: SettingWithCopyWarning: \n",
      "A value is trying to be set on a copy of a slice from a DataFrame.\n",
      "Try using .loc[row_indexer,col_indexer] = value instead\n",
      "\n",
      "See the caveats in the documentation: https://pandas.pydata.org/pandas-docs/stable/user_guide/indexing.html#returning-a-view-versus-a-copy\n",
      "  new.loc[new['clusters'] == 3, 'cluster'] = 'black'\n"
     ]
    }
   ],
   "source": [
    "new.loc[new['clusters'] == 3, 'cluster'] = 'black'\n",
    "new.loc[new['clusters'] == 2, 'cluster'] = 'dark purple'\n",
    "new.loc[new['clusters'] == 1, 'cluster'] = 'pink'\n",
    "new.loc[new['clusters'] == 0, 'cluster'] = 'light pink'\n"
   ]
  },
  {
   "cell_type": "code",
   "execution_count": 37,
   "id": "48579d51",
   "metadata": {},
   "outputs": [
    {
     "data": {
      "text/html": [
       "<div>\n",
       "<style scoped>\n",
       "    .dataframe tbody tr th:only-of-type {\n",
       "        vertical-align: middle;\n",
       "    }\n",
       "\n",
       "    .dataframe tbody tr th {\n",
       "        vertical-align: top;\n",
       "    }\n",
       "\n",
       "    .dataframe thead tr th {\n",
       "        text-align: left;\n",
       "    }\n",
       "\n",
       "    .dataframe thead tr:last-of-type th {\n",
       "        text-align: right;\n",
       "    }\n",
       "</style>\n",
       "<table border=\"1\" class=\"dataframe\">\n",
       "  <thead>\n",
       "    <tr>\n",
       "      <th></th>\n",
       "      <th colspan=\"2\" halign=\"left\">Victims_per_100000</th>\n",
       "      <th colspan=\"2\" halign=\"left\">Population_millions</th>\n",
       "    </tr>\n",
       "    <tr>\n",
       "      <th></th>\n",
       "      <th>mean</th>\n",
       "      <th>median</th>\n",
       "      <th>mean</th>\n",
       "      <th>median</th>\n",
       "    </tr>\n",
       "    <tr>\n",
       "      <th>cluster</th>\n",
       "      <th></th>\n",
       "      <th></th>\n",
       "      <th></th>\n",
       "      <th></th>\n",
       "    </tr>\n",
       "  </thead>\n",
       "  <tbody>\n",
       "    <tr>\n",
       "      <th>black</th>\n",
       "      <td>8.301982</td>\n",
       "      <td>7.639355</td>\n",
       "      <td>21.813670</td>\n",
       "      <td>19.859948</td>\n",
       "    </tr>\n",
       "    <tr>\n",
       "      <th>dark purple</th>\n",
       "      <td>23.621855</td>\n",
       "      <td>21.821521</td>\n",
       "      <td>6.761511</td>\n",
       "      <td>5.568576</td>\n",
       "    </tr>\n",
       "    <tr>\n",
       "      <th>light pink</th>\n",
       "      <td>10.293055</td>\n",
       "      <td>10.785528</td>\n",
       "      <td>6.824158</td>\n",
       "      <td>6.684113</td>\n",
       "    </tr>\n",
       "    <tr>\n",
       "      <th>pink</th>\n",
       "      <td>6.372032</td>\n",
       "      <td>6.372032</td>\n",
       "      <td>38.373945</td>\n",
       "      <td>38.521420</td>\n",
       "    </tr>\n",
       "  </tbody>\n",
       "</table>\n",
       "</div>"
      ],
      "text/plain": [
       "            Victims_per_100000            Population_millions           \n",
       "                          mean     median                mean     median\n",
       "cluster                                                                 \n",
       "black                 8.301982   7.639355           21.813670  19.859948\n",
       "dark purple          23.621855  21.821521            6.761511   5.568576\n",
       "light pink           10.293055  10.785528            6.824158   6.684113\n",
       "pink                  6.372032   6.372032           38.373945  38.521420"
      ]
     },
     "execution_count": 37,
     "metadata": {},
     "output_type": "execute_result"
    }
   ],
   "source": [
    "new.groupby('cluster').agg({'Victims_per_100000':['mean', 'median'],  \n",
    "                         'Population_millions':['mean', 'median']})"
   ]
  },
  {
   "cell_type": "markdown",
   "id": "30599e73",
   "metadata": {},
   "source": [
    "#### According to the results of the K-means clustering, there isn't a significant relationship between these two variables. The pink clusters have the highest population, but the lowest number of victims, while the dark purple cluster is full of low population states with a high rate of gun violence victims."
   ]
  },
  {
   "cell_type": "code",
   "execution_count": null,
   "id": "05765b84",
   "metadata": {},
   "outputs": [],
   "source": []
  }
 ],
 "metadata": {
  "kernelspec": {
   "display_name": "Python 3 (ipykernel)",
   "language": "python",
   "name": "python3"
  },
  "language_info": {
   "codemirror_mode": {
    "name": "ipython",
    "version": 3
   },
   "file_extension": ".py",
   "mimetype": "text/x-python",
   "name": "python",
   "nbconvert_exporter": "python",
   "pygments_lexer": "ipython3",
   "version": "3.9.13"
  }
 },
 "nbformat": 4,
 "nbformat_minor": 5
}
