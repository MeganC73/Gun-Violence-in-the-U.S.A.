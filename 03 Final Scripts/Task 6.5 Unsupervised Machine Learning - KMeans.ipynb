{
 "cells": [
  {
   "cell_type": "markdown",
   "id": "b8aa8a5b",
   "metadata": {},
   "source": [
    "### 01. Import all necessary libraries"
   ]
  },
  {
   "cell_type": "code",
   "execution_count": 1,
   "id": "48276a99",
   "metadata": {},
   "outputs": [],
   "source": [
    "import pandas as pd \n",
    "import numpy as np \n",
    "import os \n",
    "import seaborn as sns \n",
    "import matplotlib.pyplot as plt \n",
    "import matplotlib \n",
    "import pylab as pl \n",
    "import sklearn \n",
    "from sklearn.cluster import KMeans"
   ]
  },
  {
   "cell_type": "code",
   "execution_count": 2,
   "id": "6165f371",
   "metadata": {},
   "outputs": [],
   "source": [
    "# Create path \n",
    "path = r'C:\\Users\\Megan\\Documents\\Analytics\\Gun Violence Achievement 6'"
   ]
  },
  {
   "cell_type": "code",
   "execution_count": 3,
   "id": "de2bd033",
   "metadata": {},
   "outputs": [],
   "source": [
    "# Import cleaned dataframe \n",
    "\n",
    "df = pd.read_csv(os.path.join(path, '02 Data','Raw Data','regression_data.csv'))"
   ]
  },
  {
   "cell_type": "code",
   "execution_count": 4,
   "id": "8359f2a6",
   "metadata": {},
   "outputs": [
    {
     "data": {
      "text/html": [
       "<div>\n",
       "<style scoped>\n",
       "    .dataframe tbody tr th:only-of-type {\n",
       "        vertical-align: middle;\n",
       "    }\n",
       "\n",
       "    .dataframe tbody tr th {\n",
       "        vertical-align: top;\n",
       "    }\n",
       "\n",
       "    .dataframe thead th {\n",
       "        text-align: right;\n",
       "    }\n",
       "</style>\n",
       "<table border=\"1\" class=\"dataframe\">\n",
       "  <thead>\n",
       "    <tr style=\"text-align: right;\">\n",
       "      <th></th>\n",
       "      <th>Unnamed: 0</th>\n",
       "      <th>Incident_id</th>\n",
       "      <th>Date</th>\n",
       "      <th>State</th>\n",
       "      <th>City_or_County</th>\n",
       "      <th>#_killed</th>\n",
       "      <th>#_injured</th>\n",
       "      <th>latitude</th>\n",
       "      <th>longitude</th>\n",
       "      <th>n_guns_involved</th>\n",
       "      <th>participant_age_group</th>\n",
       "      <th>participant_gender</th>\n",
       "      <th>Geographic_Region</th>\n",
       "    </tr>\n",
       "  </thead>\n",
       "  <tbody>\n",
       "    <tr>\n",
       "      <th>0</th>\n",
       "      <td>0</td>\n",
       "      <td>461105</td>\n",
       "      <td>1/1/2013</td>\n",
       "      <td>Pennsylvania</td>\n",
       "      <td>Mckeesport</td>\n",
       "      <td>0</td>\n",
       "      <td>4</td>\n",
       "      <td>40.3467</td>\n",
       "      <td>-79.8559</td>\n",
       "      <td>1.0</td>\n",
       "      <td>0::Adult 18+||1::Adult 18+||2::Adult 18+||3::A...</td>\n",
       "      <td>0::Male||1::Male||3::Male||4::Female</td>\n",
       "      <td>East</td>\n",
       "    </tr>\n",
       "    <tr>\n",
       "      <th>1</th>\n",
       "      <td>1</td>\n",
       "      <td>460726</td>\n",
       "      <td>1/1/2013</td>\n",
       "      <td>California</td>\n",
       "      <td>Hawthorne</td>\n",
       "      <td>1</td>\n",
       "      <td>3</td>\n",
       "      <td>33.9090</td>\n",
       "      <td>-118.3330</td>\n",
       "      <td>1.0</td>\n",
       "      <td>0::Adult 18+||1::Adult 18+||2::Adult 18+||3::A...</td>\n",
       "      <td>0::Male</td>\n",
       "      <td>West</td>\n",
       "    </tr>\n",
       "    <tr>\n",
       "      <th>2</th>\n",
       "      <td>2</td>\n",
       "      <td>478855</td>\n",
       "      <td>1/1/2013</td>\n",
       "      <td>Ohio</td>\n",
       "      <td>Lorain</td>\n",
       "      <td>1</td>\n",
       "      <td>3</td>\n",
       "      <td>41.4455</td>\n",
       "      <td>-82.1377</td>\n",
       "      <td>2.0</td>\n",
       "      <td>0::Adult 18+||1::Adult 18+||2::Adult 18+||3::A...</td>\n",
       "      <td>0::Male||1::Male||2::Male||3::Male||4::Male</td>\n",
       "      <td>East</td>\n",
       "    </tr>\n",
       "    <tr>\n",
       "      <th>3</th>\n",
       "      <td>3</td>\n",
       "      <td>478925</td>\n",
       "      <td>1/5/2013</td>\n",
       "      <td>Colorado</td>\n",
       "      <td>Aurora</td>\n",
       "      <td>4</td>\n",
       "      <td>0</td>\n",
       "      <td>39.6518</td>\n",
       "      <td>-104.8020</td>\n",
       "      <td>1.0</td>\n",
       "      <td>0::Adult 18+||1::Adult 18+||2::Adult 18+||3::A...</td>\n",
       "      <td>0::Female||1::Male||2::Male||3::Male</td>\n",
       "      <td>Middle</td>\n",
       "    </tr>\n",
       "    <tr>\n",
       "      <th>4</th>\n",
       "      <td>4</td>\n",
       "      <td>478959</td>\n",
       "      <td>1/7/2013</td>\n",
       "      <td>North Carolina</td>\n",
       "      <td>Greensboro</td>\n",
       "      <td>2</td>\n",
       "      <td>2</td>\n",
       "      <td>36.1140</td>\n",
       "      <td>-79.9569</td>\n",
       "      <td>2.0</td>\n",
       "      <td>0::Adult 18+||1::Adult 18+||2::Teen 12-17||3::...</td>\n",
       "      <td>0::Female||1::Male||2::Male||3::Female</td>\n",
       "      <td>East</td>\n",
       "    </tr>\n",
       "  </tbody>\n",
       "</table>\n",
       "</div>"
      ],
      "text/plain": [
       "   Unnamed: 0  Incident_id      Date           State City_or_County  #_killed  \\\n",
       "0           0       461105  1/1/2013    Pennsylvania     Mckeesport         0   \n",
       "1           1       460726  1/1/2013      California      Hawthorne         1   \n",
       "2           2       478855  1/1/2013            Ohio         Lorain         1   \n",
       "3           3       478925  1/5/2013        Colorado         Aurora         4   \n",
       "4           4       478959  1/7/2013  North Carolina     Greensboro         2   \n",
       "\n",
       "   #_injured  latitude  longitude  n_guns_involved  \\\n",
       "0          4   40.3467   -79.8559              1.0   \n",
       "1          3   33.9090  -118.3330              1.0   \n",
       "2          3   41.4455   -82.1377              2.0   \n",
       "3          0   39.6518  -104.8020              1.0   \n",
       "4          2   36.1140   -79.9569              2.0   \n",
       "\n",
       "                               participant_age_group  \\\n",
       "0  0::Adult 18+||1::Adult 18+||2::Adult 18+||3::A...   \n",
       "1  0::Adult 18+||1::Adult 18+||2::Adult 18+||3::A...   \n",
       "2  0::Adult 18+||1::Adult 18+||2::Adult 18+||3::A...   \n",
       "3  0::Adult 18+||1::Adult 18+||2::Adult 18+||3::A...   \n",
       "4  0::Adult 18+||1::Adult 18+||2::Teen 12-17||3::...   \n",
       "\n",
       "                            participant_gender Geographic_Region  \n",
       "0         0::Male||1::Male||3::Male||4::Female              East  \n",
       "1                                      0::Male              West  \n",
       "2  0::Male||1::Male||2::Male||3::Male||4::Male              East  \n",
       "3         0::Female||1::Male||2::Male||3::Male            Middle  \n",
       "4       0::Female||1::Male||2::Male||3::Female              East  "
      ]
     },
     "execution_count": 4,
     "metadata": {},
     "output_type": "execute_result"
    }
   ],
   "source": [
    "df.head()"
   ]
  },
  {
   "cell_type": "code",
   "execution_count": 5,
   "id": "f7e5cc85",
   "metadata": {},
   "outputs": [],
   "source": [
    "# Remove unnamed column \n",
    "\n",
    "df = df.drop(columns = ['Unnamed: 0'])"
   ]
  },
  {
   "cell_type": "code",
   "execution_count": 6,
   "id": "a2a88820",
   "metadata": {},
   "outputs": [
    {
     "data": {
      "text/html": [
       "<div>\n",
       "<style scoped>\n",
       "    .dataframe tbody tr th:only-of-type {\n",
       "        vertical-align: middle;\n",
       "    }\n",
       "\n",
       "    .dataframe tbody tr th {\n",
       "        vertical-align: top;\n",
       "    }\n",
       "\n",
       "    .dataframe thead th {\n",
       "        text-align: right;\n",
       "    }\n",
       "</style>\n",
       "<table border=\"1\" class=\"dataframe\">\n",
       "  <thead>\n",
       "    <tr style=\"text-align: right;\">\n",
       "      <th></th>\n",
       "      <th>Incident_id</th>\n",
       "      <th>Date</th>\n",
       "      <th>State</th>\n",
       "      <th>City_or_County</th>\n",
       "      <th>#_killed</th>\n",
       "      <th>#_injured</th>\n",
       "      <th>latitude</th>\n",
       "      <th>longitude</th>\n",
       "      <th>n_guns_involved</th>\n",
       "      <th>participant_age_group</th>\n",
       "      <th>participant_gender</th>\n",
       "      <th>Geographic_Region</th>\n",
       "    </tr>\n",
       "  </thead>\n",
       "  <tbody>\n",
       "    <tr>\n",
       "      <th>0</th>\n",
       "      <td>461105</td>\n",
       "      <td>1/1/2013</td>\n",
       "      <td>Pennsylvania</td>\n",
       "      <td>Mckeesport</td>\n",
       "      <td>0</td>\n",
       "      <td>4</td>\n",
       "      <td>40.3467</td>\n",
       "      <td>-79.8559</td>\n",
       "      <td>1.0</td>\n",
       "      <td>0::Adult 18+||1::Adult 18+||2::Adult 18+||3::A...</td>\n",
       "      <td>0::Male||1::Male||3::Male||4::Female</td>\n",
       "      <td>East</td>\n",
       "    </tr>\n",
       "    <tr>\n",
       "      <th>1</th>\n",
       "      <td>460726</td>\n",
       "      <td>1/1/2013</td>\n",
       "      <td>California</td>\n",
       "      <td>Hawthorne</td>\n",
       "      <td>1</td>\n",
       "      <td>3</td>\n",
       "      <td>33.9090</td>\n",
       "      <td>-118.3330</td>\n",
       "      <td>1.0</td>\n",
       "      <td>0::Adult 18+||1::Adult 18+||2::Adult 18+||3::A...</td>\n",
       "      <td>0::Male</td>\n",
       "      <td>West</td>\n",
       "    </tr>\n",
       "    <tr>\n",
       "      <th>2</th>\n",
       "      <td>478855</td>\n",
       "      <td>1/1/2013</td>\n",
       "      <td>Ohio</td>\n",
       "      <td>Lorain</td>\n",
       "      <td>1</td>\n",
       "      <td>3</td>\n",
       "      <td>41.4455</td>\n",
       "      <td>-82.1377</td>\n",
       "      <td>2.0</td>\n",
       "      <td>0::Adult 18+||1::Adult 18+||2::Adult 18+||3::A...</td>\n",
       "      <td>0::Male||1::Male||2::Male||3::Male||4::Male</td>\n",
       "      <td>East</td>\n",
       "    </tr>\n",
       "    <tr>\n",
       "      <th>3</th>\n",
       "      <td>478925</td>\n",
       "      <td>1/5/2013</td>\n",
       "      <td>Colorado</td>\n",
       "      <td>Aurora</td>\n",
       "      <td>4</td>\n",
       "      <td>0</td>\n",
       "      <td>39.6518</td>\n",
       "      <td>-104.8020</td>\n",
       "      <td>1.0</td>\n",
       "      <td>0::Adult 18+||1::Adult 18+||2::Adult 18+||3::A...</td>\n",
       "      <td>0::Female||1::Male||2::Male||3::Male</td>\n",
       "      <td>Middle</td>\n",
       "    </tr>\n",
       "    <tr>\n",
       "      <th>4</th>\n",
       "      <td>478959</td>\n",
       "      <td>1/7/2013</td>\n",
       "      <td>North Carolina</td>\n",
       "      <td>Greensboro</td>\n",
       "      <td>2</td>\n",
       "      <td>2</td>\n",
       "      <td>36.1140</td>\n",
       "      <td>-79.9569</td>\n",
       "      <td>2.0</td>\n",
       "      <td>0::Adult 18+||1::Adult 18+||2::Teen 12-17||3::...</td>\n",
       "      <td>0::Female||1::Male||2::Male||3::Female</td>\n",
       "      <td>East</td>\n",
       "    </tr>\n",
       "  </tbody>\n",
       "</table>\n",
       "</div>"
      ],
      "text/plain": [
       "   Incident_id      Date           State City_or_County  #_killed  #_injured  \\\n",
       "0       461105  1/1/2013    Pennsylvania     Mckeesport         0          4   \n",
       "1       460726  1/1/2013      California      Hawthorne         1          3   \n",
       "2       478855  1/1/2013            Ohio         Lorain         1          3   \n",
       "3       478925  1/5/2013        Colorado         Aurora         4          0   \n",
       "4       478959  1/7/2013  North Carolina     Greensboro         2          2   \n",
       "\n",
       "   latitude  longitude  n_guns_involved  \\\n",
       "0   40.3467   -79.8559              1.0   \n",
       "1   33.9090  -118.3330              1.0   \n",
       "2   41.4455   -82.1377              2.0   \n",
       "3   39.6518  -104.8020              1.0   \n",
       "4   36.1140   -79.9569              2.0   \n",
       "\n",
       "                               participant_age_group  \\\n",
       "0  0::Adult 18+||1::Adult 18+||2::Adult 18+||3::A...   \n",
       "1  0::Adult 18+||1::Adult 18+||2::Adult 18+||3::A...   \n",
       "2  0::Adult 18+||1::Adult 18+||2::Adult 18+||3::A...   \n",
       "3  0::Adult 18+||1::Adult 18+||2::Adult 18+||3::A...   \n",
       "4  0::Adult 18+||1::Adult 18+||2::Teen 12-17||3::...   \n",
       "\n",
       "                            participant_gender Geographic_Region  \n",
       "0         0::Male||1::Male||3::Male||4::Female              East  \n",
       "1                                      0::Male              West  \n",
       "2  0::Male||1::Male||2::Male||3::Male||4::Male              East  \n",
       "3         0::Female||1::Male||2::Male||3::Male            Middle  \n",
       "4       0::Female||1::Male||2::Male||3::Female              East  "
      ]
     },
     "execution_count": 6,
     "metadata": {},
     "output_type": "execute_result"
    }
   ],
   "source": [
    "df.head()"
   ]
  },
  {
   "cell_type": "markdown",
   "id": "fb0765f9",
   "metadata": {},
   "source": [
    "### 02. Prep data for KMeans analysis "
   ]
  },
  {
   "cell_type": "code",
   "execution_count": 7,
   "id": "0a46d251",
   "metadata": {},
   "outputs": [],
   "source": [
    "# Create subset without categorical variables \n",
    "\n",
    "df_kmeans = df[['#_killed','#_injured','n_guns_involved']]"
   ]
  },
  {
   "cell_type": "code",
   "execution_count": 8,
   "id": "82e17e4c",
   "metadata": {},
   "outputs": [
    {
     "data": {
      "text/html": [
       "<div>\n",
       "<style scoped>\n",
       "    .dataframe tbody tr th:only-of-type {\n",
       "        vertical-align: middle;\n",
       "    }\n",
       "\n",
       "    .dataframe tbody tr th {\n",
       "        vertical-align: top;\n",
       "    }\n",
       "\n",
       "    .dataframe thead th {\n",
       "        text-align: right;\n",
       "    }\n",
       "</style>\n",
       "<table border=\"1\" class=\"dataframe\">\n",
       "  <thead>\n",
       "    <tr style=\"text-align: right;\">\n",
       "      <th></th>\n",
       "      <th>#_killed</th>\n",
       "      <th>#_injured</th>\n",
       "      <th>n_guns_involved</th>\n",
       "    </tr>\n",
       "  </thead>\n",
       "  <tbody>\n",
       "    <tr>\n",
       "      <th>0</th>\n",
       "      <td>0</td>\n",
       "      <td>4</td>\n",
       "      <td>1.0</td>\n",
       "    </tr>\n",
       "    <tr>\n",
       "      <th>1</th>\n",
       "      <td>1</td>\n",
       "      <td>3</td>\n",
       "      <td>1.0</td>\n",
       "    </tr>\n",
       "    <tr>\n",
       "      <th>2</th>\n",
       "      <td>1</td>\n",
       "      <td>3</td>\n",
       "      <td>2.0</td>\n",
       "    </tr>\n",
       "    <tr>\n",
       "      <th>3</th>\n",
       "      <td>4</td>\n",
       "      <td>0</td>\n",
       "      <td>1.0</td>\n",
       "    </tr>\n",
       "    <tr>\n",
       "      <th>4</th>\n",
       "      <td>2</td>\n",
       "      <td>2</td>\n",
       "      <td>2.0</td>\n",
       "    </tr>\n",
       "  </tbody>\n",
       "</table>\n",
       "</div>"
      ],
      "text/plain": [
       "   #_killed  #_injured  n_guns_involved\n",
       "0         0          4              1.0\n",
       "1         1          3              1.0\n",
       "2         1          3              2.0\n",
       "3         4          0              1.0\n",
       "4         2          2              2.0"
      ]
     },
     "execution_count": 8,
     "metadata": {},
     "output_type": "execute_result"
    }
   ],
   "source": [
    "df_kmeans.head()"
   ]
  },
  {
   "cell_type": "markdown",
   "id": "52d566d0",
   "metadata": {},
   "source": [
    "### 03. Use elbow technique"
   ]
  },
  {
   "cell_type": "code",
   "execution_count": 9,
   "id": "308d028e",
   "metadata": {},
   "outputs": [],
   "source": [
    "num_cl = range(1, 10) # Defines the range of potential clusters in the data.\n",
    "kmeans = [KMeans(n_clusters=i) for i in num_cl] # Defines k-means clusters in the range assigned above."
   ]
  },
  {
   "cell_type": "code",
   "execution_count": 10,
   "id": "6420fc72",
   "metadata": {},
   "outputs": [
    {
     "data": {
      "text/plain": [
       "[-243290.41005423845,\n",
       " -156622.79829774055,\n",
       " -117292.98701190701,\n",
       " -77238.44376222331,\n",
       " -53313.007390422295,\n",
       " -44779.73685765517,\n",
       " -36332.62307737377,\n",
       " -29591.72362552158,\n",
       " -22911.472200921566]"
      ]
     },
     "execution_count": 10,
     "metadata": {},
     "output_type": "execute_result"
    }
   ],
   "source": [
    "score = [kmeans[i].fit(df_kmeans).score(df_kmeans) for i in range(len(kmeans))] # Creates a score that represents \n",
    "# a rate of variation for the given cluster option.\n",
    "\n",
    "score"
   ]
  },
  {
   "cell_type": "code",
   "execution_count": 11,
   "id": "1c4343f9",
   "metadata": {},
   "outputs": [
    {
     "data": {
      "image/png": "[encoded data removed]",
      "text/plain": [
       "<Figure size 640x480 with 1 Axes>"
      ]
     },
     "metadata": {},
     "output_type": "display_data"
    }
   ],
   "source": [
    "# Plot the elbow curve using PyLab.\n",
    "\n",
    "pl.plot(num_cl,score)\n",
    "pl.xlabel('Number of Clusters')\n",
    "pl.ylabel('Score')\n",
    "pl.title('Elbow Curve')\n",
    "pl.show()"
   ]
  },
  {
   "cell_type": "markdown",
   "id": "35e2bea6",
   "metadata": {},
   "source": [
    "### 04. Make an informed decision about the number of clusters you’ll use in your k-means algorithm based on the chart."
   ]
  },
  {
   "cell_type": "markdown",
   "id": "4233d095",
   "metadata": {},
   "source": [
    "#### Based on the elbow chart, using 5 clusters would be a good idea, since the curve flattens out significantly for 6 or more clusters.  "
   ]
  },
  {
   "cell_type": "markdown",
   "id": "537d0e59",
   "metadata": {},
   "source": [
    "### 05. Run the KMeans algorithm "
   ]
  },
  {
   "cell_type": "code",
   "execution_count": 12,
   "id": "cd3548d2",
   "metadata": {},
   "outputs": [],
   "source": [
    "kmeans = KMeans(n_clusters = 5)"
   ]
  },
  {
   "cell_type": "code",
   "execution_count": 13,
   "id": "cef5b294",
   "metadata": {},
   "outputs": [
    {
     "data": {
      "text/plain": [
       "KMeans(n_clusters=5)"
      ]
     },
     "execution_count": 13,
     "metadata": {},
     "output_type": "execute_result"
    }
   ],
   "source": [
    "kmeans.fit(df_kmeans)"
   ]
  },
  {
   "cell_type": "code",
   "execution_count": 14,
   "id": "582b5092",
   "metadata": {},
   "outputs": [
    {
     "name": "stderr",
     "output_type": "stream",
     "text": [
      "C:\\Users\\Megan\\AppData\\Local\\Temp\\ipykernel_3816\\254859967.py:1: SettingWithCopyWarning: \n",
      "A value is trying to be set on a copy of a slice from a DataFrame.\n",
      "Try using .loc[row_indexer,col_indexer] = value instead\n",
      "\n",
      "See the caveats in the documentation: https://pandas.pydata.org/pandas-docs/stable/user_guide/indexing.html#returning-a-view-versus-a-copy\n",
      "  df_kmeans['clusters'] = kmeans.fit_predict(df_kmeans)\n"
     ]
    }
   ],
   "source": [
    "df_kmeans['clusters'] = kmeans.fit_predict(df_kmeans)"
   ]
  },
  {
   "cell_type": "markdown",
   "id": "118dd4f4",
   "metadata": {},
   "source": [
    "### 06. Attach a new column to dataframe with the clusters"
   ]
  },
  {
   "cell_type": "code",
   "execution_count": 15,
   "id": "bf177488",
   "metadata": {},
   "outputs": [
    {
     "data": {
      "text/plain": [
       "2    92233\n",
       "1    73149\n",
       "0    48803\n",
       "4    14569\n",
       "3     2035\n",
       "Name: clusters, dtype: int64"
      ]
     },
     "execution_count": 15,
     "metadata": {},
     "output_type": "execute_result"
    }
   ],
   "source": [
    "df_kmeans['clusters'].value_counts()"
   ]
  },
  {
   "cell_type": "markdown",
   "id": "abd1fa5d",
   "metadata": {},
   "source": [
    "### 07. Create a few different visualizations (e.g., scatterplots) using your clustered data. Try plotting different variables against each other to see the results in terms of the clusters."
   ]
  },
  {
   "cell_type": "code",
   "execution_count": 16,
   "id": "d8aaf1b8",
   "metadata": {},
   "outputs": [
    {
     "data": {
      "image/png": "[encoded data removed]",
      "text/plain": [
       "<Figure size 800x600 with 1 Axes>"
      ]
     },
     "metadata": {},
     "output_type": "display_data"
    }
   ],
   "source": [
    "# Plot the clusters for the \"n_guns_involved\" and \"#_killed\" variables.\n",
    "\n",
    "plt.figure(figsize=(8,6))\n",
    "ax = sns.scatterplot(x=df_kmeans['n_guns_involved'], y=df_kmeans['#_killed'], hue=kmeans.labels_, s=100) \n",
    "\n",
    "ax.grid(False) # This removes the grid from the background.\n",
    "plt.xlabel('n_guns_involved') # Label x-axis.\n",
    "plt.ylabel('#_killed') # Label y-axis.\n",
    "plt.show()"
   ]
  },
  {
   "cell_type": "code",
   "execution_count": 17,
   "id": "94782414",
   "metadata": {},
   "outputs": [
    {
     "data": {
      "image/png": "[encoded data removed]",
      "text/plain": [
       "<Figure size 800x600 with 1 Axes>"
      ]
     },
     "metadata": {},
     "output_type": "display_data"
    }
   ],
   "source": [
    "# Plot the clusters for the number of guns involved and the number injured \n",
    "\n",
    "plt.figure(figsize = (8,6))\n",
    "ax = sns.scatterplot(x=df_kmeans['n_guns_involved'], y=df_kmeans['#_injured'], hue=kmeans.labels_, s=100) \n",
    "\n",
    "ax.grid(False)\n",
    "plt.xlabel('n_guns_involved')\n",
    "plt.ylabel('#_injured')\n",
    "plt.show()"
   ]
  },
  {
   "cell_type": "markdown",
   "id": "5140ff40",
   "metadata": {},
   "source": [
    "### 08. Discuss how and why the clusters make sense. If they don’t make sense, however, this is also useful insight, as it means you’ll need to explore the data further."
   ]
  },
  {
   "cell_type": "markdown",
   "id": "fc0d8380",
   "metadata": {},
   "source": [
    "#### These clusters don't really make much sense, except to show that the fewer guns that are involved in an incident, the higher the number of related deaths and injuries there are. I don't think the K-means is a good method for analyzing this data, since so many of the incidents have only 1-2 guns involved in the first place. "
   ]
  },
  {
   "cell_type": "markdown",
   "id": "4f844f31",
   "metadata": {},
   "source": [
    "### 09. Calculate the descriptive statistics for your clusters using groupby"
   ]
  },
  {
   "cell_type": "code",
   "execution_count": 18,
   "id": "88dc9be6",
   "metadata": {},
   "outputs": [
    {
     "name": "stderr",
     "output_type": "stream",
     "text": [
      "C:\\Users\\Megan\\AppData\\Local\\Temp\\ipykernel_3816\\1814542066.py:1: SettingWithCopyWarning: \n",
      "A value is trying to be set on a copy of a slice from a DataFrame.\n",
      "Try using .loc[row_indexer,col_indexer] = value instead\n",
      "\n",
      "See the caveats in the documentation: https://pandas.pydata.org/pandas-docs/stable/user_guide/indexing.html#returning-a-view-versus-a-copy\n",
      "  df_kmeans.loc[df_kmeans['clusters'] == 4, 'cluster'] = 'black'\n"
     ]
    }
   ],
   "source": [
    "df_kmeans.loc[df_kmeans['clusters'] == 4, 'cluster'] = 'black'\n",
    "df_kmeans.loc[df_kmeans['clusters'] == 3, 'cluster'] = 'dark purple'\n",
    "df_kmeans.loc[df_kmeans['clusters'] == 2, 'cluster'] = 'purple'\n",
    "df_kmeans.loc[df_kmeans['clusters'] == 1, 'cluster'] = 'pink'\n",
    "df_kmeans.loc[df_kmeans['clusters'] == 0, 'cluster'] = 'light pink'"
   ]
  },
  {
   "cell_type": "code",
   "execution_count": 19,
   "id": "110a912b",
   "metadata": {},
   "outputs": [
    {
     "data": {
      "text/html": [
       "<div>\n",
       "<style scoped>\n",
       "    .dataframe tbody tr th:only-of-type {\n",
       "        vertical-align: middle;\n",
       "    }\n",
       "\n",
       "    .dataframe tbody tr th {\n",
       "        vertical-align: top;\n",
       "    }\n",
       "\n",
       "    .dataframe thead tr th {\n",
       "        text-align: left;\n",
       "    }\n",
       "\n",
       "    .dataframe thead tr:last-of-type th {\n",
       "        text-align: right;\n",
       "    }\n",
       "</style>\n",
       "<table border=\"1\" class=\"dataframe\">\n",
       "  <thead>\n",
       "    <tr>\n",
       "      <th></th>\n",
       "      <th colspan=\"2\" halign=\"left\">#_killed</th>\n",
       "      <th colspan=\"2\" halign=\"left\">#_injured</th>\n",
       "      <th colspan=\"2\" halign=\"left\">n_guns_involved</th>\n",
       "    </tr>\n",
       "    <tr>\n",
       "      <th></th>\n",
       "      <th>mean</th>\n",
       "      <th>median</th>\n",
       "      <th>mean</th>\n",
       "      <th>median</th>\n",
       "      <th>mean</th>\n",
       "      <th>median</th>\n",
       "    </tr>\n",
       "    <tr>\n",
       "      <th>cluster</th>\n",
       "      <th></th>\n",
       "      <th></th>\n",
       "      <th></th>\n",
       "      <th></th>\n",
       "      <th></th>\n",
       "      <th></th>\n",
       "    </tr>\n",
       "  </thead>\n",
       "  <tbody>\n",
       "    <tr>\n",
       "      <th>black</th>\n",
       "      <td>0.161439</td>\n",
       "      <td>0.0</td>\n",
       "      <td>2.399272</td>\n",
       "      <td>2.0</td>\n",
       "      <td>1.052097</td>\n",
       "      <td>1.0</td>\n",
       "    </tr>\n",
       "    <tr>\n",
       "      <th>dark purple</th>\n",
       "      <td>0.039312</td>\n",
       "      <td>0.0</td>\n",
       "      <td>0.074693</td>\n",
       "      <td>0.0</td>\n",
       "      <td>5.574939</td>\n",
       "      <td>5.0</td>\n",
       "    </tr>\n",
       "    <tr>\n",
       "      <th>light pink</th>\n",
       "      <td>1.120259</td>\n",
       "      <td>1.0</td>\n",
       "      <td>0.127287</td>\n",
       "      <td>0.0</td>\n",
       "      <td>1.025121</td>\n",
       "      <td>1.0</td>\n",
       "    </tr>\n",
       "    <tr>\n",
       "      <th>pink</th>\n",
       "      <td>0.000000</td>\n",
       "      <td>0.0</td>\n",
       "      <td>1.000000</td>\n",
       "      <td>1.0</td>\n",
       "      <td>1.017375</td>\n",
       "      <td>1.0</td>\n",
       "    </tr>\n",
       "    <tr>\n",
       "      <th>purple</th>\n",
       "      <td>0.000000</td>\n",
       "      <td>0.0</td>\n",
       "      <td>0.000000</td>\n",
       "      <td>0.0</td>\n",
       "      <td>1.084796</td>\n",
       "      <td>1.0</td>\n",
       "    </tr>\n",
       "  </tbody>\n",
       "</table>\n",
       "</div>"
      ],
      "text/plain": [
       "             #_killed        #_injured        n_guns_involved       \n",
       "                 mean median      mean median            mean median\n",
       "cluster                                                             \n",
       "black        0.161439    0.0  2.399272    2.0        1.052097    1.0\n",
       "dark purple  0.039312    0.0  0.074693    0.0        5.574939    5.0\n",
       "light pink   1.120259    1.0  0.127287    0.0        1.025121    1.0\n",
       "pink         0.000000    0.0  1.000000    1.0        1.017375    1.0\n",
       "purple       0.000000    0.0  0.000000    0.0        1.084796    1.0"
      ]
     },
     "execution_count": 19,
     "metadata": {},
     "output_type": "execute_result"
    }
   ],
   "source": [
    "df_kmeans.groupby('cluster').agg({'#_killed':['mean', 'median'], \n",
    "                         '#_injured':['mean', 'median'], \n",
    "                         'n_guns_involved':['mean', 'median']})"
   ]
  },
  {
   "cell_type": "markdown",
   "id": "91022762",
   "metadata": {},
   "source": [
    "### 10. What could these steps mean and what could be done next in the analysis? "
   ]
  },
  {
   "cell_type": "markdown",
   "id": "a5a5a53d",
   "metadata": {},
   "source": [
    "#### According to the descriptive statistics, there is no relationship between the number of guns involved and the number of people killed or injured. Although the black cluster has the highest number of guns involved, it doesn't have the largest numbers of people killed/injured. The purple cluster has a relatively low number of guns involved, but the highest incidence of people killed. This shows there is no significant relationship between the variables. "
   ]
  },
  {
   "cell_type": "code",
   "execution_count": null,
   "id": "b8041728",
   "metadata": {},
   "outputs": [],
   "source": []
  }
 ],
 "metadata": {
  "kernelspec": {
   "display_name": "Python 3 (ipykernel)",
   "language": "python",
   "name": "python3"
  },
  "language_info": {
   "codemirror_mode": {
    "name": "ipython",
    "version": 3
   },
   "file_extension": ".py",
   "mimetype": "text/x-python",
   "name": "python",
   "nbconvert_exporter": "python",
   "pygments_lexer": "ipython3",
   "version": "3.9.13"
  }
 },
 "nbformat": 4,
 "nbformat_minor": 5
}
